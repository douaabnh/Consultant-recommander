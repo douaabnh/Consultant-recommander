{
 "cells": [
  {
   "cell_type": "markdown",
   "metadata": {
    "id": "Wci4kdV2qTtP"
   },
   "source": [
    "### Import"
   ]
  },
  {
   "cell_type": "markdown",
   "metadata": {
    "id": "nlJpMXGlYLAW"
   },
   "source": [
    "import library and data sets"
   ]
  },
  {
   "cell_type": "code",
   "execution_count": 1,
   "metadata": {
    "colab": {
     "base_uri": "https://localhost:8080/"
    },
    "executionInfo": {
     "elapsed": 32116,
     "status": "ok",
     "timestamp": 1737558679717,
     "user": {
      "displayName": "Yousra DJELLIOUT",
      "userId": "15412454454980372451"
     },
     "user_tz": -60
    },
    "id": "dc7vTfA8Zlhr",
    "outputId": "30673686-de76-4c39-e84f-3b1720aebbe3"
   },
   "outputs": [],
   "source": [
    "import pandas as pd\n",
    "consultant_profiles = pd.read_csv('consultant_profiles.csv')\n",
    "historical_data = pd.read_csv('historical_data_df.csv')"
   ]
  },
  {
   "cell_type": "markdown",
   "metadata": {
    "id": "oyc8QcBmqO70"
   },
   "source": [
    "Import the dictionnary"
   ]
  },
  {
   "cell_type": "code",
   "execution_count": 2,
   "metadata": {
    "executionInfo": {
     "elapsed": 588,
     "status": "ok",
     "timestamp": 1737558683347,
     "user": {
      "displayName": "Yousra DJELLIOUT",
      "userId": "15412454454980372451"
     },
     "user_tz": -60
    },
    "id": "IevVX5-KYYaK"
   },
   "outputs": [],
   "source": [
    "import sys\n",
    "sys.path.append('/content/drive/My Drive/DRIVE DOUAA-YOUSRA/S3/recommendation system/')\n",
    "\n",
    "from keyword_to_skills import keyword_to_skills"
   ]
  },
  {
   "cell_type": "code",
   "execution_count": 3,
   "metadata": {
    "colab": {
     "base_uri": "https://localhost:8080/"
    },
    "executionInfo": {
     "elapsed": 316,
     "status": "ok",
     "timestamp": 1737558685565,
     "user": {
      "displayName": "Yousra DJELLIOUT",
      "userId": "15412454454980372451"
     },
     "user_tz": -60
    },
    "id": "XzajheGIahAv",
    "outputId": "79682bdf-2e17-4b05-9022-924589abc4f3"
   },
   "outputs": [
    {
     "name": "stdout",
     "output_type": "stream",
     "text": [
      "{'machine learning': 'Machine Learning', 'ml': 'Machine Learning', 'predictive modeling': 'Data Analysis', 'training models': 'Machine Learning', 'algorithm development': 'Machine Learning', 'ai models': 'Machine Learning', 'ai learning': 'Machine Learning', 'making predictions': 'Machine Learning', 'data-driven insights': 'Machine Learning', 'teaching computers': 'Machine Learning', 'learning algorithms': 'Machine Learning', 'smart systems': 'Machine Learning', 'self-learning software': 'Machine Learning', 'automated decision making': 'Machine Learning', 'ai tools': 'Machine Learning', 'pattern recognition': 'Machine Learning', 'data patterns': 'Machine Learning', 'automated predictions': 'Machine Learning', 'ai solutions': 'Machine Learning', 'smart predictions': 'Machine Learning', 'intelligent systems': 'Machine Learning', 'automating tasks': 'Machine Learning', 'smart algorithms': 'Machine Learning', 'training ai': 'Machine Learning', 'learning from data': 'Machine Learning', 'data models': 'Data Engineering', 'ai-powered tools': 'Machine Learning', 'ai-driven systems': 'Machine Learning', 'data science models': 'Machine Learning', 'ai insights': 'Machine Learning', 'computers learning': 'Machine Learning', 'data learning': 'Machine Learning', 'smart ai': 'Machine Learning', 'future predictions': 'Machine Learning', 'analytics automation': 'Machine Learning', 'smart computing': 'Machine Learning', 'smart analytics': 'Machine Learning', 'automating insights': 'Machine Learning', 'learning engines': 'Machine Learning', 'ai predictions': 'Machine Learning', 'teaching ai': 'Machine Learning', 'intelligent predictions': 'Machine Learning', 'self-training systems': 'Machine Learning', 'data-driven ai': 'Machine Learning', 'learning programs': 'Machine Learning', 'ai data processing': 'Machine Learning', 'ai model building': 'Machine Learning', 'automated learning': 'Machine Learning', 'smart decision-making': 'Machine Learning', 'decision automation': 'Machine Learning', 'data-based decisions': 'Machine Learning', 'ai automation': 'Machine Learning', 'intelligent data tools': 'Machine Learning', 'learning machines': 'Machine Learning', 'adaptive systems': 'Machine Learning', 'predicting outcomes': 'Machine Learning', 'data predictions': 'Machine Learning', 'teaching machines': 'Machine Learning', 'ai-based predictions': 'Machine Learning', 'ai algorithms': 'Machine Learning', 'learning ai systems': 'Machine Learning', 'ai-based learning': 'Machine Learning', 'computer-based predictions': 'Machine Learning', 'automated learning systems': 'Machine Learning', 'forecasting': 'Business Analysis', 'deep learning': 'Deep Learning', 'neural networks': 'Deep Learning', 'cnn': ['Deep Learning', 'Computer Vision'], 'rnn': 'Deep Learning', 'transformers': 'Deep Learning', 'deep ai': 'Deep Learning', 'ai layers': 'Deep Learning', 'learning layers': 'Deep Learning', 'deep neural nets': 'Deep Learning', 'ai depth': 'Deep Learning', 'advanced ai': 'Deep Learning', 'deep models': 'Deep Learning', 'complex ai': 'Deep Learning', 'learning like humans': 'Deep Learning', 'deep data processing': 'Deep Learning', 'deep machine learning': 'Deep Learning', 'brain-like ai': 'Deep Learning', 'complex learning systems': 'Deep Learning', 'ai voice understanding': 'Deep Learning', 'voice recognition ai': 'Deep Learning', 'speech understanding': 'Deep Learning', 'human-like learning': 'Deep Learning', 'advanced learning ai': 'Deep Learning', 'ai recognition systems': 'Deep Learning', 'deep ai models': 'Deep Learning', 'ai for speech': ['Deep Learning', 'NLP'], 'voice-based ai': 'Deep Learning', 'ai perception': 'Deep Learning', 'perception ai': 'Deep Learning', 'speech ai tools': 'Deep Learning', 'ai thinking models': 'Deep Learning', 'layered ai': 'Deep Learning', 'deep networks': 'Deep Learning', 'multi-layer learning': 'Deep Learning', 'brain-inspired ai': 'Deep Learning', 'speech learning systems': 'Deep Learning', 'deep language processing': 'Deep Learning', 'ai pattern recognition': 'Deep Learning', 'ai voice tools': 'Deep Learning', 'deep audio analysis': 'Deep Learning', 'layered learning systems': 'Deep Learning', 'deep ai solutions': 'Deep Learning', 'deep automation': 'Deep Learning', 'speech and text ai': 'Deep Learning', 'ai recognition tools': 'Deep Learning', 'speech recognition ai': 'Deep Learning', 'audio learning systems': 'Deep Learning', 'advanced neural networks': 'Deep Learning', 'multi-layer ai': 'Deep Learning', 'deep understanding ai': 'Deep Learning', 'voice ai systems': 'Deep Learning', 'natural ai learning': 'Deep Learning', 'ai interpretation': 'Deep Learning', 'pattern understanding ai': 'Deep Learning', 'deep feature extraction': 'Deep Learning', 'deep problem-solving ai': 'Deep Learning', 'deep brain-like ai': 'Deep Learning', 'nlp': 'NLP', 'natural language processing': 'NLP', 'chatbot': 'NLP', 'text analysis': 'NLP', 'voice assistant': 'NLP', 'sentiment analysis': 'Data Analysis', 'language models': 'NLP', 'talking ai': 'NLP', 'ai for text': 'NLP', 'text ai': 'NLP', 'voice recognition': 'NLP', 'speech to text': 'NLP', 'understanding text': 'NLP', 'language understanding': 'NLP', 'text understanding': 'NLP', 'ai for language': 'NLP', 'language ai': 'NLP', 'smart voice systems': 'NLP', 'ai for voice': 'NLP', 'ai speech tools': 'NLP', 'ai for conversation': 'NLP', 'ai that talks': 'NLP', 'smart chat systems': 'NLP', 'conversational ai': 'NLP', 'customer support ai': 'NLP', 'ai for emails': 'NLP', 'email ai tools': 'NLP', 'text-based ai': 'NLP', 'text recognition': 'NLP', 'language translation ai': 'NLP', 'speech understanding ai': 'NLP', 'text automation': 'NLP', 'smart text ai': 'NLP', 'ai that reads': 'NLP', 'ai that writes': 'NLP', 'writing automation': 'NLP', 'ai for writing': 'NLP', 'smart writing systems': 'NLP', 'grammar checking ai': 'NLP', 'language correction': 'NLP', 'smart text tools': 'NLP', 'text mining': 'Data Analysis', 'language detection': 'NLP', 'content ai': 'NLP', 'ai content creation': 'NLP', 'smart translator': 'NLP', 'ai translator': 'NLP', 'machine translation': 'NLP', 'voice-to-text ai': 'NLP', 'text-to-speech ai': 'NLP', 'smart voice assistant': 'NLP', 'ai for subtitles': 'NLP', 'automatic subtitles': 'NLP', 'language models ai': 'NLP', 'speech interpretation': 'NLP', 'ai voice typing': 'NLP', 'chat automation': 'NLP', 'smart replies': 'NLP', 'automatic text replies': 'NLP', 'automatic messaging': 'NLP', 'customer chat ai': 'NLP', 'chat system ai': 'NLP', 'smart ai for calls': 'NLP', 'call center ai': 'NLP', 'customer support bot': 'NLP', 'ai phone assistant': 'NLP', 'ai speech analyzer': 'NLP', 'smart email replies': 'NLP', 'ai for blogs': 'NLP', 'ai for posts': 'NLP', 'content rewriting ai': 'NLP', 'summary ai': 'NLP', 'text summarizer': 'NLP', 'smart summary tools': 'NLP', 'keyword ai tools': 'NLP', 'search optimization ai': 'NLP', 'ai for keywords': 'NLP', 'ai for documents': 'NLP', 'document analysis ai': 'NLP', 'smart document tools': 'NLP', 'text classifiers': 'NLP', 'topic analysis ai': 'NLP', 'ai for questions': 'NLP', 'qa ai': 'NLP', 'question answering ai': 'NLP', 'smart query tools': 'NLP', 'smart search ai': 'NLP', 'computer vision': 'Computer Vision', 'image recognition': 'Computer Vision', 'object detection': 'Computer Vision', 'image processing': 'Computer Vision', 'video analytics': 'Computer Vision', 'ai for images': 'Computer Vision', 'ai for videos': 'Computer Vision', 'image ai': 'Computer Vision', 'video ai': 'Computer Vision', 'object tracking': 'Computer Vision', 'face detection': 'Computer Vision', 'facial recognition': 'Computer Vision', 'recognizing objects': 'Computer Vision', 'visual ai': 'Computer Vision', 'ai for pictures': 'Computer Vision', 'ai that sees': 'Computer Vision', 'photo analysis': 'Computer Vision', 'video understanding': 'Computer Vision', 'understanding images': 'Computer Vision', 'image segmentation': 'Computer Vision', 'feature detection': 'Computer Vision', 'scene analysis': 'Computer Vision', 'visual analysis': 'Computer Vision', 'image classification': 'Computer Vision', 'ai for cameras': 'Computer Vision', 'camera-based ai': 'Computer Vision', 'motion detection': 'Computer Vision', 'smart surveillance': 'Computer Vision', 'security cameras ai': 'Computer Vision', 'license plate recognition': 'Computer Vision', 'optical character recognition': 'Computer Vision', 'ocr': 'Computer Vision', 'visual data processing': 'Computer Vision', 'visual content analysis': 'Computer Vision', 'image enhancement': 'Computer Vision', 'video editing ai': 'Computer Vision', 'ai for animations': 'Computer Vision', 'ai for photos': 'Computer Vision', 'photo enhancement ai': 'Computer Vision', 'smart photo tools': 'Computer Vision', 'ai for editing': 'Computer Vision', 'ai vision systems': 'Computer Vision', 'medical imaging ai': 'Computer Vision', 'x-ray analysis': 'Computer Vision', 'ai for medical scans': 'Computer Vision', 'ai for health imaging': 'Computer Vision', 'smart vision tools': 'Computer Vision', 'visual pattern recognition': 'Computer Vision', 'visual data ai': 'Computer Vision', 'ai for shapes': 'Computer Vision', 'shape recognition': 'Computer Vision', 'ai for patterns': 'Computer Vision', 'gesture recognition': 'Computer Vision', 'hand tracking ai': 'Computer Vision', 'body pose estimation': 'Computer Vision', 'action recognition': 'Computer Vision', 'ai for movements': 'Computer Vision', 'video object tracking': 'Computer Vision', 'real-time vision ai': 'Computer Vision', 'live video ai': 'Computer Vision', '3d modeling ai': 'Computer Vision', '3d vision ai': 'Computer Vision', 'virtual reality ai': 'Computer Vision', 'augmented reality ai': 'Computer Vision', 'ar vision tools': 'Computer Vision', 'vr vision tools': 'Computer Vision', 'spatial recognition': 'Computer Vision', 'geometric analysis ai': 'Computer Vision', 'satellite image analysis': 'Computer Vision', 'drone footage ai': 'Computer Vision', 'remote sensing ai': 'Computer Vision', 'ai for maps': 'Computer Vision', 'autonomous vehicles vision': 'Computer Vision', 'self-driving cars ai': 'Computer Vision', 'robot vision ai': 'Computer Vision', 'ai for robots': 'Computer Vision', 'industrial vision tools': 'Computer Vision', 'manufacturing ai vision': 'Computer Vision', 'quality control ai': 'Computer Vision', 'smart factory ai': 'Computer Vision', 'ai vision': 'Computer Vision', 'vision-based ai': 'Computer Vision', 'intelligent vision ai': 'Computer Vision', 'image deep learning': 'Computer Vision', 'video deep learning': 'Computer Vision', 'data engineering': 'Data Engineering', 'data pipelines': 'Data Engineering', 'etl': 'Big Data', 'extract transform load': 'Data Engineering', 'big data tools': 'Big Data', 'data processing': 'Big Data', 'data architecture': 'Big Data', 'data infrastructure': 'Data Engineering', 'data systems': 'Data Engineering', 'data management': 'Big Data', 'data storage solutions': 'Big Data', 'data integration': 'Business Analysis', 'database engineering': 'Data Engineering', 'data flow': 'Data Engineering', 'data automation': 'Data Engineering', 'data warehouse': 'Big Data', 'cloud data architecture': 'Data Engineering', 'data lakes': 'Big Data', 'big data management': 'Data Engineering', 'data engineering platforms': 'Data Engineering', 'data cleaning': 'Data Engineering', 'data wrangling': 'Big Data', 'real-time data processing': 'Data Engineering', 'streaming data': 'Big Data', 'data pipeline automation': 'Data Engineering', 'data orchestration': 'Data Engineering', 'data staging': 'Data Engineering', 'data lake architecture': 'Big Data', 'data ingestion': 'Big Data', 'batch data processing': 'Data Engineering', 'data flow management': 'Data Engineering', 'data processing frameworks': 'Data Engineering', 'big data frameworks': 'Big Data', 'data migration': 'Big Data', 'data replication': 'Data Engineering', 'cloud data platforms': 'Data Engineering', 'data warehouse solutions': 'Data Engineering', 'data normalization': 'Data Engineering', 'data federation': 'Data Engineering', 'data transformations': 'Data Engineering', 'data modeling': 'Business Analysis', 'data formats': 'Data Engineering', 'data quality': 'Big Data', 'data consistency': 'Data Engineering', 'data synchronization': 'Data Engineering', 'database solutions': 'Data Engineering', 'data cleaning pipelines': 'Data Engineering', 'data analysis tools': 'Data Engineering', 'data platform design': 'Data Engineering', 'data engineering tools': 'Data Engineering', 'data management platforms': 'Data Engineering', 'data security frameworks': 'Data Engineering', 'data integration tools': 'Data Engineering', 'data monitoring': 'Data Engineering', 'data orchestration tools': 'Data Engineering', 'data governance': 'Big Data', 'real-time data processing tools': 'Data Engineering', 'data validation': 'Business Analysis', 'data architecture design': 'Data Engineering', 'data scaling': 'Big Data', 'cloud data engineering': 'Data Engineering', 'data-driven pipelines': 'Data Engineering', 'data infrastructure management': 'Data Engineering', 'data engineering frameworks': 'Data Engineering', 'data science pipeline': 'Data Engineering', 'data visualization pipelines': 'Data Engineering', 'cloud database management': 'Data Engineering', 'distributed data systems': 'Data Engineering', 'data backup solutions': 'Data Engineering', 'data transformation platforms': 'Data Engineering', 'big data ecosystems': 'Data Engineering', 'data distribution': 'Data Engineering', 'data modeling tools': 'Data Engineering', 'data handling systems': 'Data Engineering', 'data science infrastructure': 'Data Engineering', 'data quality assurance': 'Data Engineering', 'data consistency checks': 'Data Engineering', 'automated data processing': 'Big Data', 'data analysis pipelines': 'Data Engineering', 'data-driven engineering': 'Data Engineering', 'cloud storage solutions': 'Data Engineering', 'distributed data processing': 'Data Engineering', 'data engineering architecture': 'Data Engineering', 'data repository': 'Data Engineering', 'data warehouse automation': 'Data Engineering', 'data analysis': 'Business Analysis', 'data analytics': 'Data Analysis', 'data insights': 'Big Data', 'data interpretation': 'Data Analysis', 'business analytics': 'Business Analysis', 'exploratory data analysis': 'Data Analysis', 'eda': 'Data Analysis', 'statistical analysis': 'Data Analysis', 'descriptive analysis': 'Data Analysis', 'descriptive statistics': 'Data Analysis', 'data visualization': 'Big Data', 'charts and graphs': 'Data Analysis', 'visual data representation': 'Data Analysis', 'data reports': 'Data Analysis', 'business intelligence': 'Business Analysis', 'predictive analytics': 'Big Data', 'trends analysis': 'Data Analysis', 'correlation analysis': 'Data Analysis', 'trend analysis': 'Data Analysis', 'performance metrics': 'Data Analysis', 'data-driven decisions': 'Big Data', 'insight generation': 'Data Analysis', 'data review': 'Data Analysis', 'data trends': 'Big Data', 'data pattern recognition': 'Data Analysis', 'business performance analysis': 'Data Analysis', 'statistical modeling': 'Data Analysis', 'multivariate analysis': 'Data Analysis', 'data comparison': 'Data Analysis', 'data quality analysis': 'Data Analysis', 'trend forecasting': 'Data Analysis', 'gap analysis': 'Business Analysis', 'market analysis': 'Business Analysis', 'customer insights': 'Data Analysis', 'data segmentation': 'Data Analysis', 'data profiling': 'Data Analysis', 'decision support systems': 'Data Analysis', 'data-driven strategies': 'Big Data', 'regression analysis': 'Data Analysis', 'forecasting analysis': 'Data Analysis', 'data aggregation': 'Data Analysis', 'hypothesis testing': 'Data Analysis', 'data sampling': 'Data Analysis', 'sample analysis': 'Data Analysis', 'spatial analysis': 'Data Analysis', 'data extraction': 'Data Analysis', 'data cleansing': 'Data Analysis', 'data transformation': 'Data Analysis', 'survey analysis': 'Data Analysis', 'market research analysis': 'Data Analysis', 'customer behavior analysis': 'Data Analysis', 'survey data analysis': 'Data Analysis', 'descriptive data analysis': 'Data Analysis', 'data pattern analysis': 'Data Analysis', 'data aggregation and analysis': 'Data Analysis', 'exploratory statistics': 'Data Analysis', 'qualitative data analysis': 'Data Analysis', 'quantitative data analysis': 'Data Analysis', 'data conclusions': 'Data Analysis', 'data verification': 'Data Analysis', 'data trend analysis': 'Data Analysis', 'key performance indicators (KPIs)': 'Business Analysis', 'business process analysis': 'Business Analysis', 'market segment analysis': 'Data Analysis', 'regression modeling': 'Data Analysis', 'outlier detection': 'Data Analysis', 'data synthesis': 'Data Analysis', 'data aggregation analysis': 'Data Analysis', 'actionable insights': 'Business Analysis', 'operational analytics': 'Data Analysis', 'data audit': 'Data Analysis', 'financial data analysis': 'Data Analysis', 'economic analysis': 'Data Analysis', 'data summary': 'Data Analysis', 'data profiling and segmentation': 'Data Analysis', 'data-driven reports': 'Data Analysis', 'dashboarding': 'Data Analysis', 'metrics analysis': 'Data Analysis', 'cloud computing': 'Cloud Computing', 'cloud': 'Cloud Computing', 'cloud services': 'DevOps', 'cloud infrastructure': 'Cloud Computing', 'cloud platforms': 'Software Development', 'cloud technology': 'Cloud Computing', 'cloud-based solutions': 'Cloud Computing', 'cloud storage': 'Cloud Computing', 'cloud hosting': 'Cloud Computing', 'cloud systems': 'Cloud Computing', 'cloud deployment': 'Software Development', 'cloud migration': 'Cloud Computing', 'cloud hosting services': 'Cloud Computing', 'public cloud': 'Cloud Computing', 'private cloud': 'Cloud Computing', 'hybrid cloud': 'Cloud Computing', 'cloud network': 'Cloud Computing', 'cloud infrastructure management': 'DevOps', 'cloud platform providers': 'Cloud Computing', 'cloud service providers': 'Cloud Computing', 'cloud architecture': 'Cloud Computing', 'cloud scalability': 'Cloud Computing', 'cloud-based applications': 'Cloud Computing', 'cloud-native applications': 'DevOps', 'cloud computing services': 'Cloud Computing', 'cloud computing solutions': 'Cloud Computing', 'virtual machines': 'Cloud Computing', 'virtualization': 'DevOps', 'containerization': 'DevOps', 'serverless computing': 'Cloud Computing', 'cloud management': 'Cloud Computing', 'cloud backup': 'Cloud Computing', 'data storage in the cloud': 'Cloud Computing', 'cloud security': 'Cybersecurity', 'cloud monitoring': 'Cloud Computing', 'cloud analytics': 'Cloud Computing', 'cloud data storage': 'Big Data', 'cloud computing deployment models': 'Cloud Computing', 'cloud-based storage': 'Cloud Computing', 'cloud computing architecture': 'Cloud Computing', 'cloud computing management tools': 'Cloud Computing', 'cloud applications': 'Cloud Computing', 'SaaS': 'Cloud Computing', 'IaaS': 'Cloud Computing', 'PaaS': 'Cloud Computing', 'multi-cloud': 'Cloud Computing', 'cloud computing infrastructure': 'Cloud Computing', 'cloud computing environment': 'Cloud Computing', 'cloud collaboration tools': 'Cloud Computing', 'cloud development': 'Software Development', 'cloud-based solutions for business': 'Cloud Computing', 'cloud platform services': 'Cloud Computing', 'cloud-based infrastructure': 'Cloud Computing', 'cloud scalability and flexibility': 'Cloud Computing', 'cloud-based data solutions': 'Cloud Computing', 'cloud-based disaster recovery': 'Cloud Computing', 'cloud data synchronization': 'Cloud Computing', 'cloud-based enterprise applications': 'Cloud Computing', 'cloud computing for businesses': 'Cloud Computing', 'cloud computing for startups': 'Cloud Computing', 'cloud services for data storage': 'Cloud Computing', 'cloud hosting and storage': 'Cloud Computing', 'cloud-based file storage': 'Cloud Computing', 'cloud-based backup systems': 'Cloud Computing', 'cloud computing for scalability': 'Cloud Computing', 'cloud computing solutions for businesses': 'Cloud Computing', 'serverless architecture': 'DevOps', 'cloud-based business intelligence': 'Cloud Computing', 'cloud solution providers': 'Cloud Computing', 'cloud optimization': 'Cloud Computing', 'cloud data security': 'Cloud Computing', 'cloud computing integration': 'Cloud Computing', 'cloud resource management': 'Cloud Computing', 'cloud-based systems': 'Cloud Computing', 'cloud-first strategy': 'Cloud Computing', 'cloud-based infrastructure management': 'Cloud Computing', 'cloud-based networking': 'Cloud Computing', 'cloud-based enterprise solutions': 'Cloud Computing', 'cloud computing for enterprises': 'Cloud Computing', 'cloud-based virtual infrastructure': 'Cloud Computing', 'cloud hosting services for businesses': 'Cloud Computing', 'cloud cost management': 'Cloud Computing', 'cloud cost optimization': 'Cloud Computing', 'cloud migration strategies': 'Cloud Computing', 'cloud performance optimization': 'Cloud Computing', 'cloud application deployment': 'Cloud Computing', 'cloud security management': 'Cloud Computing', 'cloud networking solutions': 'Cloud Computing', 'cloud computing transformation': 'Cloud Computing', 'cloud resource provisioning': 'Cloud Computing', 'cloud deployment models': 'Cloud Computing', 'devops': 'DevOps', 'devops practices': 'DevOps', 'devops tools': 'DevOps', 'devops pipelines': 'DevOps', 'devops culture': 'DevOps', 'ci/cd': 'Software Development', 'continuous integration': 'Software Development', 'continuous delivery': 'Software Development', 'continuous deployment': 'DevOps', 'automation': 'DevOps', 'automated pipelines': 'DevOps', 'infrastructure automation': 'DevOps', 'infrastructure as code': 'DevOps', 'infrastructure provisioning': 'DevOps', 'cloud automation': 'DevOps', 'automated testing': 'DevOps', 'deployment automation': 'DevOps', 'automated deployment': 'DevOps', 'build automation': 'DevOps', 'version control': 'Software Development', 'git': 'Software Development', 'github': 'Software Development', 'gitlab': 'Software Development', 'bitbucket': 'DevOps', 'docker': 'DevOps', 'containers': 'DevOps', 'kubernetes': 'DevOps', 'k8s': 'DevOps', 'docker containers': 'DevOps', 'container orchestration': 'Software Development', 'microservices': 'DevOps', 'infrastructure as a service': 'DevOps', 'automation scripts': 'DevOps', 'automation frameworks': 'DevOps', 'continuous testing': 'Software Development', 'deployment pipelines': 'DevOps', 'pipeline automation': 'DevOps', 'automation tools': 'DevOps', 'build and release': 'DevOps', 'monitoring tools': 'DevOps', 'log aggregation': 'DevOps', 'log management': 'DevOps', 'system monitoring': 'DevOps', 'real-time monitoring': 'DevOps', 'monitoring and alerting': 'DevOps', 'cloud-native architecture': 'DevOps', 'configuration management': 'DevOps', 'ansible': 'DevOps', 'puppet': 'DevOps', 'chef': 'DevOps', 'terraform': 'DevOps', 'configuration automation': 'DevOps', 'scalable infrastructure': 'DevOps', 'high availability systems': 'DevOps', 'load balancing': 'DevOps', 'network monitoring': 'Cybersecurity', 'scalable architecture': 'DevOps', 'system provisioning': 'DevOps', 'cloud automation tools': 'DevOps', 'container management': 'DevOps', 'release management': 'DevOps', 'integrated tools': 'DevOps', 'agile devops': 'DevOps', 'collaboration in devops': 'DevOps', 'devops collaboration tools': 'DevOps', 'cross-functional teams': 'DevOps', 'team integration': 'DevOps', 'devops for development': 'Software Development', 'devops for operations': 'DevOps', 'devops workflow': 'DevOps', 'collaborative devops': 'DevOps', 'devops environment': 'DevOps', 'automation in devops': 'DevOps', 'devops pipeline management': 'DevOps', 'cloud deployment automation': 'DevOps', 'agile delivery pipelines': 'DevOps', 'devops lifecycle': 'DevOps', 'secure devops': 'DevOps', 'devops security': 'DevOps', 'security automation': 'DevOps', 'devops monitoring tools': 'DevOps', 'incident management': 'Cybersecurity', 'devops monitoring systems': 'DevOps', 'continuous feedback': 'DevOps', 'performance optimization': 'Software Development', 'configuration as code': 'DevOps', 'microservices architecture': 'DevOps', 'scalable microservices': 'DevOps', 'monitoring and diagnostics': 'DevOps', 'cloud devops': 'DevOps', 'software deployment automation': 'DevOps', 'test automation in devops': 'DevOps', 'automated infrastructure': 'DevOps', 'cloud infrastructure as code': 'DevOps', 'distributed systems': 'DevOps', 'multi-cloud environments': 'DevOps', 'edge computing': 'DevOps', 'enterprise devops': 'DevOps', 'lean devops': 'DevOps', 'continuous improvement': 'Project Management', 'devops strategy': 'DevOps', 'devops best practices': 'DevOps', 'cybersecurity': 'Cybersecurity', 'information security': 'Cybersecurity', 'network security': 'Cybersecurity', 'data security': 'Cybersecurity', 'system security': 'Cybersecurity', 'cyber protection': 'Cybersecurity', 'digital security': 'Cybersecurity', 'security measures': 'Cybersecurity', 'online security': 'Cybersecurity', 'internet security': 'Cybersecurity', 'cyber defense': 'Cybersecurity', 'security breaches': 'Cybersecurity', 'data breaches': 'Cybersecurity', 'hacking': 'Cybersecurity', 'hackers': 'Cybersecurity', 'malware': 'Cybersecurity', 'viruses': 'Cybersecurity', 'ransomware': 'Cybersecurity', 'spyware': 'Cybersecurity', 'phishing': 'Cybersecurity', 'phishing attacks': 'Cybersecurity', 'social engineering': 'Cybersecurity', 'cyber attacks': 'Cybersecurity', 'data theft': 'Cybersecurity', 'cyber threats': 'Cybersecurity', 'cybercriminals': 'Cybersecurity', 'identity theft': 'Cybersecurity', 'fraud prevention': 'Cybersecurity', 'network intrusion': 'Cybersecurity', 'denial of service': 'Cybersecurity', 'dos attack': 'Cybersecurity', 'ddos attack': 'Cybersecurity', 'firewall': 'Cybersecurity', 'firewall protection': 'Cybersecurity', 'vpn': 'Cybersecurity', 'virtual private network': 'Cybersecurity', 'encryption': 'Cybersecurity', 'data encryption': 'Big Data', 'secure connections': 'Cybersecurity', 'two-factor authentication': 'Cybersecurity', 'multi-factor authentication': 'Cybersecurity', 'access control': 'Cybersecurity', 'authentication': 'Cybersecurity', 'authorization': 'Cybersecurity', 'secure coding': 'Cybersecurity', 'secure development practices': 'Cybersecurity', 'penetration testing': 'Cybersecurity', 'pen testing': 'Cybersecurity', 'ethical hacking': 'Cybersecurity', 'vulnerability testing': 'Cybersecurity', 'vulnerability assessment': 'Cybersecurity', 'security audits': 'Cybersecurity', 'compliance standards': 'Cybersecurity', 'gdpr compliance': 'Cybersecurity', 'pci compliance': 'Cybersecurity', 'iso 27001': 'Cybersecurity', 'incident response': 'Cybersecurity', 'breach response': 'Cybersecurity', 'security monitoring': 'Cybersecurity', 'threat detection': 'Cybersecurity', 'intrusion detection': 'Cybersecurity', 'threat intelligence': 'Cybersecurity', 'malware analysis': 'Cybersecurity', 'digital forensics': 'Cybersecurity', 'cyber forensics': 'Cybersecurity', 'cybersecurity tools': 'Cybersecurity', 'security software': 'Cybersecurity', 'endpoint security': 'Cybersecurity', 'endpoint protection': 'Cybersecurity', 'secure cloud services': 'Cybersecurity', 'cloud access security broker': 'Cybersecurity', 'api security': 'Cybersecurity', 'data loss prevention': 'Cybersecurity', 'data leakage prevention': 'Cybersecurity', 'secure infrastructure': 'Cybersecurity', 'secure communication': 'Cybersecurity', 'network defense': 'Cybersecurity', 'security patching': 'Cybersecurity', 'patch management': 'Cybersecurity', 'security updates': 'Cybersecurity', 'cyber risk management': 'Cybersecurity', 'risk mitigation': 'Project Management', 'business continuity planning': 'Business Analysis', 'disaster recovery': 'Cybersecurity', 'backup and recovery': 'Cybersecurity', 'cyber insurance': 'Cybersecurity', 'security policy': 'Cybersecurity', 'cybersecurity best practices': 'Cybersecurity', 'security awareness training': 'Cybersecurity', 'security education': 'Cybersecurity', 'cyber hygiene': 'Cybersecurity', 'privacy protection': 'Cybersecurity', 'privacy laws': 'Cybersecurity', 'digital privacy': 'Cybersecurity', 'compliance regulations': 'Cybersecurity', 'security governance': 'Cybersecurity', 'zero trust security': 'Cybersecurity', 'security architecture': 'Cybersecurity', 'security strategy': 'Cybersecurity', 'cybersecurity architecture': 'Cybersecurity', 'endpoint management': 'Cybersecurity', 'secure network design': 'Cybersecurity', 'security frameworks': 'Cybersecurity', 'security protocols': 'Cybersecurity', 'cloud data protection': 'Cybersecurity', 'cloud access control': 'Cybersecurity', 'cyber resilience': 'Cybersecurity', 'data security measures': 'Cybersecurity', 'data encryption techniques': 'Cybersecurity', 'secure authentication': 'Cybersecurity', 'data integrity': 'Cybersecurity', 'audit trails': 'Cybersecurity', 'data classification': 'Cybersecurity', 'security incident management': 'Cybersecurity', 'digital security tools': 'Cybersecurity', 'network segregation': 'Cybersecurity', 'security breaches prevention': 'Cybersecurity', 'blockchain': 'Blockchain', 'distributed ledger': 'Blockchain', 'decentralized ledger': 'Blockchain', 'distributed database': 'Blockchain', 'crypto': 'Blockchain', 'cryptocurrency': 'Blockchain', 'digital currency': 'Blockchain', 'bitcoin': 'Blockchain', 'ethereum': 'Blockchain', 'blockchain technology': 'Blockchain', 'blockchain network': 'Blockchain', 'blockchain system': 'Blockchain', 'blockchain solutions': 'Blockchain', 'smart contracts': 'Blockchain', 'contracts automation': 'Blockchain', 'decentralized apps': 'Blockchain', 'dapps': 'Blockchain', 'peer-to-peer network': 'Blockchain', 'p2p network': 'Blockchain', 'blockchain protocol': 'Blockchain', 'crypto mining': 'Blockchain', 'mining': 'Blockchain', 'proof of work': 'Blockchain', 'proof of stake': 'Blockchain', 'blockchain consensus': 'Blockchain', 'blockchain nodes': 'Blockchain', 'blockchain validators': 'Blockchain', 'tokenization': 'Blockchain', 'tokens': 'Blockchain', 'cryptographic tokens': 'Blockchain', 'security tokens': 'Blockchain', 'non-fungible tokens': 'Blockchain', 'NFTs': 'Blockchain', 'digital assets': 'Blockchain', 'decentralized finance': 'Blockchain', 'defi': 'Blockchain', 'digital wallets': 'Blockchain', 'crypto wallets': 'Blockchain', 'wallet security': 'Blockchain', 'blockchain ledger': 'Blockchain', 'ledger technology': 'Blockchain', 'blockchain scalability': 'Blockchain', 'blockchain interoperability': 'Blockchain', 'blockchain adoption': 'Blockchain', 'blockchain governance': 'Blockchain', 'private blockchain': 'Blockchain', 'public blockchain': 'Blockchain', 'permissioned blockchain': 'Blockchain', 'permissionless blockchain': 'Blockchain', 'blockchain platform': 'Blockchain', 'blockchain ecosystem': 'Blockchain', 'blockchain applications': 'Blockchain', 'tokenized assets': 'Blockchain', 'decentralized applications': 'Blockchain', 'blockchain for supply chain': 'Blockchain', 'blockchain for healthcare': 'Blockchain', 'blockchain for finance': 'Blockchain', 'blockchain for business': 'Blockchain', 'smart contract development': 'Blockchain', 'cryptographic security': 'Blockchain', 'hashing algorithms': 'Blockchain', 'blockchain transactions': 'Blockchain', 'blockchain verification': 'Blockchain', 'blockchain integrity': 'Blockchain', 'blockchain auditing': 'Blockchain', 'cryptographic hashing': 'Blockchain', 'blockchain privacy': 'Blockchain', 'blockchain for identity management': 'Blockchain', 'blockchain for voting systems': 'Blockchain', 'blockchain transparency': 'Blockchain', 'blockchain immutability': 'Blockchain', 'blockchain for logistics': 'Blockchain', 'blockchain in banking': 'Blockchain', 'blockchain in real estate': 'Blockchain', 'blockchain in insurance': 'Blockchain', 'blockchain security': 'Blockchain', 'decentralized identity': 'Blockchain', 'digital signatures': 'Blockchain', 'blockchain smart contracts auditing': 'Blockchain', 'blockchain solutions development': 'Blockchain', 'crypto exchanges': 'Blockchain', 'crypto trading': 'Blockchain', 'blockchain integration': 'Blockchain', 'blockchain consulting': 'Blockchain', 'blockchain development': 'Blockchain', 'blockchain adoption challenges': 'Blockchain', 'blockchain scalability issues': 'Blockchain', 'blockchain implementation': 'Blockchain', 'blockchain innovation': 'Blockchain', 'blockchain startups': 'Blockchain', 'blockchain ecosystem growth': 'Blockchain', 'blockchain for cross-border payments': 'Blockchain', 'blockchain for remittances': 'Blockchain', 'cryptocurrency transactions': 'Blockchain', 'crypto regulations': 'Blockchain', 'blockchain for digital rights management': 'Blockchain', 'blockchain for intellectual property': 'Blockchain', 'blockchain use cases': 'Blockchain', 'blockchain token standards': 'Blockchain', 'ERC-20 tokens': 'Blockchain', 'ERC-721 tokens': 'Blockchain', 'blockchain forks': 'Blockchain', 'hard forks': 'Blockchain', 'soft forks': 'Blockchain', 'blockchain mining rewards': 'Blockchain', 'blockchain validators rewards': 'Blockchain', 'blockchain consensus algorithm': 'Blockchain', 'blockchain mining pools': 'Blockchain', 'blockchain for secure transactions': 'Blockchain', 'blockchain for digital contracts': 'Blockchain', 'blockchain for intellectual property protection': 'Blockchain', 'blockchain for anti-money laundering': 'Blockchain', 'blockchain for anti-fraud': 'Blockchain', 'blockchain for KYC/AML': 'Blockchain', 'blockchain token creation': 'Blockchain', 'blockchain innovation in finance': 'Blockchain', 'blockchain for public sector': 'Blockchain', 'blockchain for transparency': 'Blockchain', 'blockchain for audit trails': 'Blockchain', 'blockchain for data sharing': 'Blockchain', 'blockchain for data security': 'Blockchain', 'blockchain for distributed applications': 'Blockchain', 'blockchain for digital currencies': 'Blockchain', 'blockchain mining software': 'Blockchain', 'big data': 'Big Data', 'large-scale data': 'Big Data', 'data at scale': 'Big Data', 'massive data': 'Big Data', 'huge data sets': 'Big Data', 'large datasets': 'Big Data', 'big data analytics': 'Big Data', 'data hub': 'Big Data', 'data storage': 'Big Data', 'data streaming': 'Big Data', 'real-time data': 'Big Data', 'real-time analytics': 'Big Data', 'data pipeline': 'Big Data', 'extract-transform-load': 'Big Data', 'batch processing': 'Big Data', 'distributed computing': 'Big Data', 'cloud data processing': 'Big Data', 'hadoop': 'Big Data', 'spark': 'Big Data', 'mapreduce': 'Big Data', 'apache hadoop': 'Big Data', 'hadoop ecosystem': 'Big Data', 'hdfs': 'Big Data', 'spark sql': 'Big Data', 'data privacy': 'Big Data', 'data compliance': 'Big Data', 'data analytics platforms': 'Big Data', 'data analysis platforms': 'Big Data', 'data exploration': 'Big Data', 'data science': 'Big Data', 'machine learning with big data': 'Big Data', 'ai with big data': 'Big Data', 'big data solutions': 'Big Data', 'data insights platform': 'Big Data', 'data intelligence': 'Big Data', 'big data analytics tools': 'Big Data', 'bi tools': 'Big Data', 'data-driven solutions': 'Big Data', 'big data infrastructure': 'Big Data', 'scalable data': 'Big Data', 'data cloud integration': 'Big Data', 'data scientist': 'Big Data', 'data engineer': 'Big Data', 'data analytics engineer': 'Big Data', 'data pipeline architecture': 'Big Data', 'data warehouse architecture': 'Big Data', 'cloud-based big data': 'Big Data', 'data warehouse systems': 'Big Data', 'data lakehouse': 'Big Data', 'data preprocessing': 'Big Data', 'big data solutions architect': 'Big Data', 'cloud-based data processing': 'Big Data', 'noSQL databases': 'Big Data', 'SQL-based data processing': 'Big Data', 'distributed databases': 'Big Data', 'data security in big data': 'Big Data', 'data privacy in big data': 'Big Data', 'scalable analytics': 'Big Data', 'data-driven marketing': 'Big Data', 'big data consulting': 'Big Data', 'big data architecture design': 'Big Data', 'big data analytics platforms': 'Big Data', 'cloud-native data solutions': 'Big Data', 'data storage and analysis': 'Big Data', 'big data for decision-making': 'Big Data', 'big data business insights': 'Big Data', 'real-time big data analysis': 'Big Data', 'big data performance optimization': 'Big Data', 'advanced data analytics': 'Big Data', 'predictive modeling with big data': 'Big Data', 'big data cloud computing': 'Big Data', 'big data applications': 'Big Data', 'big data-driven insights': 'Big Data', 'big data algorithms': 'Big Data', 'data science on big data': 'Big Data', 'ai-powered big data': 'Big Data', 'data mining': 'Big Data', 'data visualization with big data': 'Big Data', 'big data predictive analytics': 'Big Data', 'big data solutions for business': 'Big Data', 'enterprise data platforms': 'Big Data', 'data forecasting': 'Big Data', 'data business intelligence': 'Big Data', 'big data for predictive modeling': 'Big Data', 'data processing algorithms': 'Big Data', 'big data analytics for marketing': 'Big Data', 'big data automation': 'Big Data', 'big data storage systems': 'Big Data', 'software development': 'Software Development', 'application development': 'Software Development', 'app development': 'Software Development', 'programming': 'Software Development', 'coding': 'Software Development', 'development process': 'Software Development', 'custom software': 'Software Development', 'tailored software': 'Software Development', 'software solutions': 'Software Development', 'build applications': 'Software Development', 'develop apps': 'Software Development', 'write code': 'Software Development', 'design software': 'Software Development', 'software engineering': 'Software Development', 'software programmer': 'Software Development', 'app engineer': 'Software Development', 'mobile app development': 'Software Development', 'desktop application development': 'Software Development', 'web development': 'Software Development', 'web applications': 'Software Development', 'responsive design': 'Software Development', 'cloud apps': 'Software Development', 'native apps': 'Software Development', 'hybrid apps': 'Software Development', 'front-end development': 'Software Development', 'back-end development': 'Software Development', 'full-stack development': 'Software Development', 'UI/UX development': 'Software Development', 'user interface design': 'Software Development', 'user experience design': 'Software Development', 'backend programming': 'Software Development', 'front-end coding': 'Software Development', 'website development': 'Software Development', 'website design': 'Software Development', 'software testing': 'Software Development', 'quality assurance': 'Software Development', 'unit testing': 'Software Development', 'bug fixing': 'Software Development', 'debugging': 'Software Development', 'quality control': 'Software Development', 'refactoring': 'Software Development', 'software updates': 'Software Development', 'collaborative coding': 'Software Development', 'code review': 'Software Development', 'automation in development': 'Software Development', 'agile software development': 'Software Development', 'scrum development': 'Software Development', 'kanban development': 'Software Development', 'sprint planning': 'Project Management', 'development lifecycle': 'Software Development', 'software project management': 'Software Development', 'product development': 'Software Development', 'software architecture': 'Software Development', 'system architecture': 'Software Development', 'cross-platform development': 'Software Development', 'API development': 'Software Development', 'RESTful API': 'Software Development', 'graphQL API': 'Software Development', 'web services': 'Software Development', 'integration development': 'Software Development', 'database development': 'Software Development', 'SQL development': 'Software Development', 'noSQL development': 'Software Development', 'database programming': 'Software Development', 'data-driven applications': 'Software Development', 'cloud-based software': 'Software Development', 'software deployment': 'Software Development', 'virtualization in development': 'Software Development', 'containerized applications': 'Software Development', 'docker for development': 'Software Development', 'kubernetes for software': 'Software Development', 'devops pipeline': 'Software Development', 'microservices development': 'Software Development', 'serverless applications': 'Software Development', 'app hosting': 'Software Development', 'application support': 'Software Development', 'maintaining software': 'Software Development', 'software upgrade': 'Software Development', 'third-party integrations': 'Software Development', 'plugin development': 'Software Development', 'SaaS development': 'Software Development', 'PaaS development': 'Software Development', 'IaaS development': 'Software Development', 'enterprise software': 'Software Development', 'enterprise applications': 'Software Development', 'data-driven software': 'Software Development', 'business logic implementation': 'Software Development', 'software solutions for business': 'Software Development', 'enterprise resource planning': 'Software Development', 'erp system development': 'Software Development', 'customer relationship management': 'Software Development', 'crm software development': 'Software Development', 'business intelligence applications': 'Software Development', 'financial software development': 'Software Development', 'healthcare software development': 'Software Development', 'e-commerce application development': 'Software Development', 'mobile solutions': 'Software Development', 'payment gateway integration': 'Software Development', 'e-commerce platform development': 'Software Development', 'mobile application solutions': 'Software Development', 'app store deployment': 'Software Development', 'software consulting': 'Software Development', 'digital transformation solutions': 'Software Development', 'business automation': 'Software Development', 'enterprise digitalization': 'Software Development', 'custom applications': 'Software Development', 'custom coding': 'Software Development', 'tailored applications': 'Software Development', 'tech stack': 'Software Development', 'software stack': 'Software Development', 'frameworks': 'Software Development', 'programming languages': 'Software Development', 'coding languages': 'Software Development', 'open-source development': 'Software Development', 'open-source software': 'Software Development', 'software tools': 'Software Development', 'libraries': 'Software Development', 'tech development tools': 'Software Development', 'coding frameworks': 'Software Development', 'web frameworks': 'Software Development', 'mobile frameworks': 'Software Development', 'cloud-based development tools': 'Software Development', 'recommendation system': ['Data Analysis', 'Machine Learning', 'Software Development'], 'project management': 'Project Management', 'project planning': 'Project Management', 'project execution': 'Project Management', 'project coordination': 'Project Management', 'project leader': 'Project Management', 'project manager': 'Project Management', 'managing projects': 'Project Management', 'project oversight': 'Project Management', 'project strategy': 'Project Management', 'project scheduling': 'Project Management', 'task management': 'Project Management', 'project timelines': 'Project Management', 'timeline management': 'Project Management', 'deliverables management': 'Project Management', 'resource management': 'Project Management', 'budget management': 'Project Management', 'project tracking': 'Project Management', 'monitoring progress': 'Project Management', 'project risk management': 'Project Management', 'risk analysis': 'Business Analysis', 'scope management': 'Project Management', 'scope control': 'Project Management', 'stakeholder management': 'Business Analysis', 'client communication': 'Project Management', 'team management': 'Project Management', 'team coordination': 'Project Management', 'collaboration tools': 'Project Management', 'project reporting': 'Project Management', 'status reports': 'Project Management', 'project documentation': 'Project Management', 'project lifecycle': 'Project Management', 'project phases': 'Project Management', 'project milestones': 'Project Management', 'project goals': 'Project Management', 'work breakdown structure': 'Project Management', 'project charter': 'Project Management', 'project initiation': 'Project Management', 'project execution phase': 'Project Management', 'project closing': 'Project Management', 'agile project management': 'Project Management', 'scrum methodology': 'Project Management', 'kanban methodology': 'Project Management', 'waterfall methodology': 'Project Management', 'lean project management': 'Project Management', 'project scope': 'Project Management', 'project prioritization': 'Project Management', 'project collaboration': 'Project Management', 'project tracking tools': 'Project Management', 'project management software': 'Project Management', 'task tracking software': 'Project Management', 'project management tools': 'Project Management', 'Jira': 'Project Management', 'Trello': 'Project Management', 'Asana': 'Project Management', 'Microsoft Project': 'Project Management', 'Basecamp': 'Project Management', 'Monday.com': 'Project Management', 'Wrike': 'Project Management', 'project communication': 'Project Management', 'project updates': 'Project Management', 'project reviews': 'Project Management', 'stakeholder meetings': 'Project Management', 'project presentations': 'Project Management', 'project documentation tools': 'Project Management', 'project dashboard': 'Project Management', 'project planning tools': 'Project Management', 'iteration planning': 'Project Management', 'resource allocation': 'Project Management', 'project costs': 'Project Management', 'project budget estimation': 'Project Management', 'project financial tracking': 'Project Management', 'project expense management': 'Project Management', 'budget forecasting': 'Project Management', 'project contracts': 'Project Management', 'project negotiation': 'Project Management', 'project delivery': 'Project Management', 'project completion': 'Project Management', 'project closure': 'Project Management', 'project evaluation': 'Project Management', 'post-project review': 'Project Management', 'lessons learned': 'Project Management', 'resource forecasting': 'Project Management', 'project quality control': 'Project Management', 'quality assurance in projects': 'Project Management', 'project compliance': 'Project Management', 'team building': 'Project Management', 'leadership in project management': 'Project Management', 'conflict resolution': 'Project Management', 'stakeholder engagement': 'Project Management', 'customer satisfaction': 'Project Management', 'project training': 'Project Management', 'project mentoring': 'Project Management', 'project coaching': 'Project Management', 'change management': 'Business Analysis', 'change control process': 'Project Management', 'project scope change': 'Project Management', 'issue resolution': 'Project Management', 'task delegation': 'Project Management', 'task prioritization': 'Project Management', 'team performance management': 'Project Management', 'project team motivation': 'Project Management', 'time management': 'Project Management', 'project deadlines': 'Project Management', 'project timeline adjustment': 'Project Management', 'multitasking in projects': 'Project Management', 'delegating tasks': 'Project Management', 'goal setting for projects': 'Project Management', 'project deliverable tracking': 'Project Management', 'project progress monitoring': 'Project Management', 'task completion tracking': 'Project Management', 'team performance monitoring': 'Project Management', 'workforce management': 'Project Management', 'team performance metrics': 'Project Management', 'project optimization': 'Project Management', 'project strategy planning': 'Project Management', 'action plans': 'Project Management', 'decision-making in projects': 'Project Management', 'project flexibility': 'Project Management', 'multidisciplinary team management': 'Project Management', 'project alignment with business goals': 'Project Management', 'business project integration': 'Project Management', 'agile workflows': 'Project Management', 'scrum meetings': 'Project Management', 'retrospectives': 'Project Management', 'project milestones tracking': 'Project Management', 'project risk analysis tools': 'Project Management', 'project mitigation strategies': 'Project Management', 'project communication channels': 'Project Management', 'digital project management tools': 'Project Management', 'project impact assessment': 'Project Management', 'project integration': 'Project Management', 'multi-phase projects': 'Project Management', 'remote project management': 'Project Management', 'virtual project teams': 'Project Management', 'global project management': 'Project Management', 'project portfolio management': 'Project Management', 'program management': 'Project Management', 'project scope definition': 'Project Management', 'contract management': 'Project Management', 'project risk assessment': 'Project Management', 'project evaluation metrics': 'Project Management', 'program tracking': 'Project Management', 'project stakeholder analysis': 'Project Management', 'business analysis': 'Business Analysis', 'business analyst': 'Business Analysis', 'requirements gathering': 'Business Analysis', 'business requirements': 'Business Analysis', 'business strategy': 'Business Analysis', 'process improvement': 'Business Analysis', 'business process modeling': 'Business Analysis', 'SWOT analysis': 'Business Analysis', 'business case development': 'Business Analysis', 'feasibility analysis': 'Business Analysis', 'cost-benefit analysis': 'Business Analysis', 'competitive analysis': 'Business Analysis', 'market research': 'Business Analysis', 'requirements documentation': 'Business Analysis', 'business solution design': 'Business Analysis', 'solution assessment': 'Business Analysis', 'financial analysis': 'Business Analysis', 'business systems analysis': 'Business Analysis', 'system requirements': 'Business Analysis', 'functional specifications': 'Business Analysis', 'non-functional requirements': 'Business Analysis', 'project requirements': 'Business Analysis', 'business analysis tools': 'Business Analysis', 'business process reengineering': 'Business Analysis', 'business performance metrics': 'Business Analysis', 'business metrics development': 'Business Analysis', 'business performance evaluation': 'Business Analysis', 'business modeling tools': 'Business Analysis', 'requirements analysis': 'Business Analysis', 'root cause analysis': 'Business Analysis', 'business architecture': 'Business Analysis', 'data-driven analysis': 'Business Analysis', 'qualitative analysis': 'Business Analysis', 'quantitative analysis': 'Business Analysis', 'process mapping': 'Business Analysis', 'process optimization': 'Business Analysis', 'process automation': 'Business Analysis', 'business reporting': 'Business Analysis', 'business dashboard': 'Business Analysis', 'market trends analysis': 'Business Analysis', 'client needs analysis': 'Business Analysis', 'business objectives': 'Business Analysis', 'organizational analysis': 'Business Analysis', 'business planning': 'Business Analysis', 'business goals alignment': 'Business Analysis', 'change requests': 'Business Analysis', 'stakeholder interviews': 'Business Analysis', 'business documentation': 'Business Analysis', 'use case development': 'Business Analysis', 'user stories': 'Business Analysis', 'user requirements': 'Business Analysis', 'business analysis techniques': 'Business Analysis', 'business insights': 'Business Analysis', 'business modeling': 'Business Analysis', 'requirements traceability': 'Business Analysis', 'business process optimization': 'Business Analysis', 'problem solving': 'Business Analysis', 'solution design': 'Business Analysis', 'solution delivery': 'Business Analysis', 'enterprise analysis': 'Business Analysis', 'business data analysis': 'Business Analysis', 'requirements gathering techniques': 'Business Analysis', 'business systems improvement': 'Business Analysis', 'IT business analysis': 'Business Analysis', 'digital transformation': 'Business Analysis', 'technology solutions': 'Business Analysis', 'business strategy alignment': 'Business Analysis', 'budget analysis': 'Business Analysis', 'supply chain analysis': 'Business Analysis', 'operational analysis': 'Business Analysis', 'customer satisfaction analysis': 'Business Analysis', 'business risk management': 'Business Analysis', 'product lifecycle analysis': 'Business Analysis', 'customer experience analysis': 'Business Analysis', 'business data reporting': 'Business Analysis', 'client relationship management': 'Business Analysis', 'business transformation': 'Business Analysis', 'performance improvement': 'Business Analysis', 'business planning tools': 'Business Analysis', 'business profitability analysis': 'Business Analysis', 'cost management analysis': 'Business Analysis', 'business solution implementation': 'Business Analysis', 'strategy development': 'Business Analysis', 'digital business analysis': 'Business Analysis', 'business trend analysis': 'Business Analysis', 'change implementation': 'Business Analysis', 'business decision making': 'Business Analysis', 'business forecasting': 'Business Analysis', 'customer data analysis': 'Business Analysis', 'business modeling techniques': 'Business Analysis', 'data collection': 'Business Analysis', 'data-driven decision making': 'Business Analysis', 'system implementation analysis': 'Business Analysis', 'data reporting': 'Business Analysis', 'business insight generation': 'Business Analysis', 'product development analysis': 'Business Analysis', 'business plan development': 'Business Analysis', 'profitability analysis': 'Business Analysis', 'market segmentation analysis': 'Business Analysis', 'business scenario analysis': 'Business Analysis', 'detailed analysis': 'Business Analysis', 'system integration analysis': 'Business Analysis', 'business modeling software': 'Business Analysis', 'business intelligence tools': 'Business Analysis', 'business reporting software': 'Business Analysis', 'workflow optimization': 'Business Analysis', 'service optimization': 'Business Analysis', 'strategic business analysis': 'Business Analysis', 'organizational strategy': 'Business Analysis', 'IT strategy analysis': 'Business Analysis', 'system optimization': 'Business Analysis', 'business requirements analysis': 'Business Analysis', 'project management alignment': 'Business Analysis', 'value stream analysis': 'Business Analysis', 'business modeling process': 'Business Analysis'}\n"
     ]
    }
   ],
   "source": [
    "print(keyword_to_skills)"
   ]
  },
  {
   "cell_type": "markdown",
   "metadata": {
    "id": "UzIp363ZqeSW"
   },
   "source": [
    "### Data set manipulation"
   ]
  },
  {
   "cell_type": "markdown",
   "metadata": {
    "id": "0siYfSOcYOTw"
   },
   "source": [
    "show consultant profiles data set"
   ]
  },
  {
   "cell_type": "code",
   "execution_count": 4,
   "metadata": {
    "colab": {
     "base_uri": "https://localhost:8080/",
     "height": 363
    },
    "executionInfo": {
     "elapsed": 320,
     "status": "ok",
     "timestamp": 1737558690335,
     "user": {
      "displayName": "Yousra DJELLIOUT",
      "userId": "15412454454980372451"
     },
     "user_tz": -60
    },
    "id": "RVyg-prYlKK6",
    "outputId": "2e8cdba2-27a8-4f57-db11-f2ecd127e10f"
   },
   "outputs": [
    {
     "data": {
      "text/html": [
       "<div>\n",
       "<style scoped>\n",
       "    .dataframe tbody tr th:only-of-type {\n",
       "        vertical-align: middle;\n",
       "    }\n",
       "\n",
       "    .dataframe tbody tr th {\n",
       "        vertical-align: top;\n",
       "    }\n",
       "\n",
       "    .dataframe thead th {\n",
       "        text-align: right;\n",
       "    }\n",
       "</style>\n",
       "<table border=\"1\" class=\"dataframe\">\n",
       "  <thead>\n",
       "    <tr style=\"text-align: right;\">\n",
       "      <th></th>\n",
       "      <th>Name</th>\n",
       "      <th>Skills</th>\n",
       "      <th>Languages</th>\n",
       "      <th>Industry_Expertise</th>\n",
       "      <th>Years_of_Experience</th>\n",
       "      <th>Phone_Number</th>\n",
       "    </tr>\n",
       "  </thead>\n",
       "  <tbody>\n",
       "    <tr>\n",
       "      <th>0</th>\n",
       "      <td>Consultant_1</td>\n",
       "      <td>Software Development, Blockchain</td>\n",
       "      <td>English, Arabic, German</td>\n",
       "      <td>Education</td>\n",
       "      <td>8</td>\n",
       "      <td>213626497067</td>\n",
       "    </tr>\n",
       "    <tr>\n",
       "      <th>1</th>\n",
       "      <td>Consultant_2</td>\n",
       "      <td>Blockchain, Data Engineering, Project Manageme...</td>\n",
       "      <td>German, Spanish</td>\n",
       "      <td>Finance</td>\n",
       "      <td>8</td>\n",
       "      <td>213516354563</td>\n",
       "    </tr>\n",
       "    <tr>\n",
       "      <th>2</th>\n",
       "      <td>Consultant_3</td>\n",
       "      <td>Computer Vision, Machine Learning, Data Engine...</td>\n",
       "      <td>English</td>\n",
       "      <td>Manufacturing</td>\n",
       "      <td>6</td>\n",
       "      <td>213594877652</td>\n",
       "    </tr>\n",
       "    <tr>\n",
       "      <th>3</th>\n",
       "      <td>Consultant_4</td>\n",
       "      <td>Project Management, Data Analysis, Deep Learning</td>\n",
       "      <td>German</td>\n",
       "      <td>Finance, Education</td>\n",
       "      <td>10</td>\n",
       "      <td>213545258370</td>\n",
       "    </tr>\n",
       "    <tr>\n",
       "      <th>4</th>\n",
       "      <td>Consultant_5</td>\n",
       "      <td>Project Management, NLP, Business Analysis, Bl...</td>\n",
       "      <td>German, Arabic</td>\n",
       "      <td>Technology, Manufacturing</td>\n",
       "      <td>7</td>\n",
       "      <td>213597173249</td>\n",
       "    </tr>\n",
       "    <tr>\n",
       "      <th>5</th>\n",
       "      <td>Consultant_6</td>\n",
       "      <td>Big Data, Machine Learning, Data Analysis</td>\n",
       "      <td>Arabic, German, French</td>\n",
       "      <td>Healthcare</td>\n",
       "      <td>9</td>\n",
       "      <td>213550635764</td>\n",
       "    </tr>\n",
       "    <tr>\n",
       "      <th>6</th>\n",
       "      <td>Consultant_7</td>\n",
       "      <td>Computer Vision, Deep Learning, Project Manage...</td>\n",
       "      <td>English, Spanish</td>\n",
       "      <td>Manufacturing, Retail</td>\n",
       "      <td>10</td>\n",
       "      <td>213699756499</td>\n",
       "    </tr>\n",
       "    <tr>\n",
       "      <th>7</th>\n",
       "      <td>Consultant_8</td>\n",
       "      <td>Deep Learning, Blockchain</td>\n",
       "      <td>German</td>\n",
       "      <td>Manufacturing</td>\n",
       "      <td>10</td>\n",
       "      <td>213614429673</td>\n",
       "    </tr>\n",
       "    <tr>\n",
       "      <th>8</th>\n",
       "      <td>Consultant_9</td>\n",
       "      <td>Data Engineering, Data Analysis</td>\n",
       "      <td>Arabic, French</td>\n",
       "      <td>Manufacturing, Retail</td>\n",
       "      <td>4</td>\n",
       "      <td>213683498546</td>\n",
       "    </tr>\n",
       "    <tr>\n",
       "      <th>9</th>\n",
       "      <td>Consultant_10</td>\n",
       "      <td>Deep Learning, Business Analysis, Cybersecurit...</td>\n",
       "      <td>Spanish, Arabic</td>\n",
       "      <td>Healthcare</td>\n",
       "      <td>5</td>\n",
       "      <td>213743193441</td>\n",
       "    </tr>\n",
       "  </tbody>\n",
       "</table>\n",
       "</div>"
      ],
      "text/plain": [
       "            Name                                             Skills  \\\n",
       "0   Consultant_1                   Software Development, Blockchain   \n",
       "1   Consultant_2  Blockchain, Data Engineering, Project Manageme...   \n",
       "2   Consultant_3  Computer Vision, Machine Learning, Data Engine...   \n",
       "3   Consultant_4   Project Management, Data Analysis, Deep Learning   \n",
       "4   Consultant_5  Project Management, NLP, Business Analysis, Bl...   \n",
       "5   Consultant_6          Big Data, Machine Learning, Data Analysis   \n",
       "6   Consultant_7  Computer Vision, Deep Learning, Project Manage...   \n",
       "7   Consultant_8                          Deep Learning, Blockchain   \n",
       "8   Consultant_9                    Data Engineering, Data Analysis   \n",
       "9  Consultant_10  Deep Learning, Business Analysis, Cybersecurit...   \n",
       "\n",
       "                 Languages         Industry_Expertise  Years_of_Experience  \\\n",
       "0  English, Arabic, German                  Education                    8   \n",
       "1          German, Spanish                    Finance                    8   \n",
       "2                  English              Manufacturing                    6   \n",
       "3                   German         Finance, Education                   10   \n",
       "4           German, Arabic  Technology, Manufacturing                    7   \n",
       "5   Arabic, German, French                 Healthcare                    9   \n",
       "6         English, Spanish      Manufacturing, Retail                   10   \n",
       "7                   German              Manufacturing                   10   \n",
       "8           Arabic, French      Manufacturing, Retail                    4   \n",
       "9          Spanish, Arabic                 Healthcare                    5   \n",
       "\n",
       "   Phone_Number  \n",
       "0  213626497067  \n",
       "1  213516354563  \n",
       "2  213594877652  \n",
       "3  213545258370  \n",
       "4  213597173249  \n",
       "5  213550635764  \n",
       "6  213699756499  \n",
       "7  213614429673  \n",
       "8  213683498546  \n",
       "9  213743193441  "
      ]
     },
     "execution_count": 4,
     "metadata": {},
     "output_type": "execute_result"
    }
   ],
   "source": [
    "consultant_profiles.head(10)"
   ]
  },
  {
   "cell_type": "markdown",
   "metadata": {
    "id": "NWclQsyuYc12"
   },
   "source": [
    "calculate the average rating for each consultant the merge them to consultant_profiles data set\n",
    "\n"
   ]
  },
  {
   "cell_type": "code",
   "execution_count": 5,
   "metadata": {
    "colab": {
     "base_uri": "https://localhost:8080/"
    },
    "executionInfo": {
     "elapsed": 279,
     "status": "ok",
     "timestamp": 1737558693408,
     "user": {
      "displayName": "Yousra DJELLIOUT",
      "userId": "15412454454980372451"
     },
     "user_tz": -60
    },
    "id": "DgqK5Ax9x6f9",
    "outputId": "20ea1541-4e1a-421c-ef6e-bf85bc557750"
   },
   "outputs": [
    {
     "name": "stdout",
     "output_type": "stream",
     "text": [
      "              Name  Normalized_Rating\n",
      "0     Consultant_1           0.909645\n",
      "1    Consultant_10           0.902741\n",
      "2   Consultant_100           0.869036\n",
      "3    Consultant_12           0.929949\n",
      "4    Consultant_14           0.824365\n",
      "..             ...                ...\n",
      "71   Consultant_93           0.964467\n",
      "72   Consultant_94           0.848731\n",
      "73   Consultant_96           0.856853\n",
      "74   Consultant_97           0.777665\n",
      "75   Consultant_98           0.867005\n",
      "\n",
      "[76 rows x 2 columns]\n"
     ]
    }
   ],
   "source": [
    "mean_ratings = historical_data.groupby('Consultant_Name')['Success_Rating'].mean()\n",
    "mean_ratings = mean_ratings.reset_index()  # Convert to DataFrame to rename\n",
    "mean_ratings.rename(columns={'Consultant_Name': 'Name'}, inplace=True)\n",
    "max_rating = mean_ratings['Success_Rating'].max()\n",
    "mean_ratings['Normalized_Rating'] = mean_ratings['Success_Rating'] / max_rating\n",
    "\n",
    "# Step 5: Print the result\n",
    "print(mean_ratings[['Name', 'Normalized_Rating']])\n"
   ]
  },
  {
   "cell_type": "code",
   "execution_count": 6,
   "metadata": {
    "colab": {
     "base_uri": "https://localhost:8080/",
     "height": 504
    },
    "executionInfo": {
     "elapsed": 261,
     "status": "ok",
     "timestamp": 1737558695180,
     "user": {
      "displayName": "Yousra DJELLIOUT",
      "userId": "15412454454980372451"
     },
     "user_tz": -60
    },
    "id": "Uuv_ZvmKy46B",
    "outputId": "f4089d28-f2f1-4fde-b9b2-c493ddcccf16"
   },
   "outputs": [
    {
     "data": {
      "text/html": [
       "<div>\n",
       "<style scoped>\n",
       "    .dataframe tbody tr th:only-of-type {\n",
       "        vertical-align: middle;\n",
       "    }\n",
       "\n",
       "    .dataframe tbody tr th {\n",
       "        vertical-align: top;\n",
       "    }\n",
       "\n",
       "    .dataframe thead th {\n",
       "        text-align: right;\n",
       "    }\n",
       "</style>\n",
       "<table border=\"1\" class=\"dataframe\">\n",
       "  <thead>\n",
       "    <tr style=\"text-align: right;\">\n",
       "      <th></th>\n",
       "      <th>Name</th>\n",
       "      <th>Skills</th>\n",
       "      <th>Languages</th>\n",
       "      <th>Industry_Expertise</th>\n",
       "      <th>Years_of_Experience</th>\n",
       "      <th>Phone_Number</th>\n",
       "      <th>Rate</th>\n",
       "    </tr>\n",
       "  </thead>\n",
       "  <tbody>\n",
       "    <tr>\n",
       "      <th>0</th>\n",
       "      <td>Consultant_1</td>\n",
       "      <td>Software Development, Blockchain</td>\n",
       "      <td>English, Arabic, German</td>\n",
       "      <td>Education</td>\n",
       "      <td>8</td>\n",
       "      <td>213626497067</td>\n",
       "      <td>0.909645</td>\n",
       "    </tr>\n",
       "    <tr>\n",
       "      <th>1</th>\n",
       "      <td>Consultant_2</td>\n",
       "      <td>Blockchain, Data Engineering, Project Manageme...</td>\n",
       "      <td>German, Spanish</td>\n",
       "      <td>Finance</td>\n",
       "      <td>8</td>\n",
       "      <td>213516354563</td>\n",
       "      <td>0.500000</td>\n",
       "    </tr>\n",
       "    <tr>\n",
       "      <th>2</th>\n",
       "      <td>Consultant_3</td>\n",
       "      <td>Computer Vision, Machine Learning, Data Engine...</td>\n",
       "      <td>English</td>\n",
       "      <td>Manufacturing</td>\n",
       "      <td>6</td>\n",
       "      <td>213594877652</td>\n",
       "      <td>0.818274</td>\n",
       "    </tr>\n",
       "    <tr>\n",
       "      <th>3</th>\n",
       "      <td>Consultant_4</td>\n",
       "      <td>Project Management, Data Analysis, Deep Learning</td>\n",
       "      <td>German</td>\n",
       "      <td>Finance, Education</td>\n",
       "      <td>10</td>\n",
       "      <td>213545258370</td>\n",
       "      <td>0.719797</td>\n",
       "    </tr>\n",
       "    <tr>\n",
       "      <th>4</th>\n",
       "      <td>Consultant_5</td>\n",
       "      <td>Project Management, NLP, Business Analysis, Bl...</td>\n",
       "      <td>German, Arabic</td>\n",
       "      <td>Technology, Manufacturing</td>\n",
       "      <td>7</td>\n",
       "      <td>213597173249</td>\n",
       "      <td>0.891371</td>\n",
       "    </tr>\n",
       "    <tr>\n",
       "      <th>5</th>\n",
       "      <td>Consultant_6</td>\n",
       "      <td>Big Data, Machine Learning, Data Analysis</td>\n",
       "      <td>Arabic, German, French</td>\n",
       "      <td>Healthcare</td>\n",
       "      <td>9</td>\n",
       "      <td>213550635764</td>\n",
       "      <td>0.948223</td>\n",
       "    </tr>\n",
       "    <tr>\n",
       "      <th>6</th>\n",
       "      <td>Consultant_7</td>\n",
       "      <td>Computer Vision, Deep Learning, Project Manage...</td>\n",
       "      <td>English, Spanish</td>\n",
       "      <td>Manufacturing, Retail</td>\n",
       "      <td>10</td>\n",
       "      <td>213699756499</td>\n",
       "      <td>0.792555</td>\n",
       "    </tr>\n",
       "    <tr>\n",
       "      <th>7</th>\n",
       "      <td>Consultant_8</td>\n",
       "      <td>Deep Learning, Blockchain</td>\n",
       "      <td>German</td>\n",
       "      <td>Manufacturing</td>\n",
       "      <td>10</td>\n",
       "      <td>213614429673</td>\n",
       "      <td>0.816244</td>\n",
       "    </tr>\n",
       "    <tr>\n",
       "      <th>8</th>\n",
       "      <td>Consultant_9</td>\n",
       "      <td>Data Engineering, Data Analysis</td>\n",
       "      <td>Arabic, French</td>\n",
       "      <td>Manufacturing, Retail</td>\n",
       "      <td>4</td>\n",
       "      <td>213683498546</td>\n",
       "      <td>0.791878</td>\n",
       "    </tr>\n",
       "    <tr>\n",
       "      <th>9</th>\n",
       "      <td>Consultant_10</td>\n",
       "      <td>Deep Learning, Business Analysis, Cybersecurit...</td>\n",
       "      <td>Spanish, Arabic</td>\n",
       "      <td>Healthcare</td>\n",
       "      <td>5</td>\n",
       "      <td>213743193441</td>\n",
       "      <td>0.902741</td>\n",
       "    </tr>\n",
       "  </tbody>\n",
       "</table>\n",
       "</div>"
      ],
      "text/plain": [
       "            Name                                             Skills  \\\n",
       "0   Consultant_1                   Software Development, Blockchain   \n",
       "1   Consultant_2  Blockchain, Data Engineering, Project Manageme...   \n",
       "2   Consultant_3  Computer Vision, Machine Learning, Data Engine...   \n",
       "3   Consultant_4   Project Management, Data Analysis, Deep Learning   \n",
       "4   Consultant_5  Project Management, NLP, Business Analysis, Bl...   \n",
       "5   Consultant_6          Big Data, Machine Learning, Data Analysis   \n",
       "6   Consultant_7  Computer Vision, Deep Learning, Project Manage...   \n",
       "7   Consultant_8                          Deep Learning, Blockchain   \n",
       "8   Consultant_9                    Data Engineering, Data Analysis   \n",
       "9  Consultant_10  Deep Learning, Business Analysis, Cybersecurit...   \n",
       "\n",
       "                 Languages         Industry_Expertise  Years_of_Experience  \\\n",
       "0  English, Arabic, German                  Education                    8   \n",
       "1          German, Spanish                    Finance                    8   \n",
       "2                  English              Manufacturing                    6   \n",
       "3                   German         Finance, Education                   10   \n",
       "4           German, Arabic  Technology, Manufacturing                    7   \n",
       "5   Arabic, German, French                 Healthcare                    9   \n",
       "6         English, Spanish      Manufacturing, Retail                   10   \n",
       "7                   German              Manufacturing                   10   \n",
       "8           Arabic, French      Manufacturing, Retail                    4   \n",
       "9          Spanish, Arabic                 Healthcare                    5   \n",
       "\n",
       "   Phone_Number      Rate  \n",
       "0  213626497067  0.909645  \n",
       "1  213516354563  0.500000  \n",
       "2  213594877652  0.818274  \n",
       "3  213545258370  0.719797  \n",
       "4  213597173249  0.891371  \n",
       "5  213550635764  0.948223  \n",
       "6  213699756499  0.792555  \n",
       "7  213614429673  0.816244  \n",
       "8  213683498546  0.791878  \n",
       "9  213743193441  0.902741  "
      ]
     },
     "execution_count": 6,
     "metadata": {},
     "output_type": "execute_result"
    }
   ],
   "source": [
    "# Step 1: Merge the mean ratings with the consultant_profiles dataframe\n",
    "consultant_profiles = consultant_profiles.merge(mean_ratings[['Name', 'Normalized_Rating']],\n",
    "                                                on='Name',\n",
    "                                                how='left')\n",
    "\n",
    "# Step 2: Fill NaN values with 0.5 for consultants who don't have a rating\n",
    "consultant_profiles['Normalized_Rating'].fillna(0.5, inplace=True)\n",
    "\n",
    "# Step 3: Rename 'Normalized_Rating' column to 'Rate' as requested\n",
    "consultant_profiles.rename(columns={'Normalized_Rating': 'Rate'}, inplace=True)\n",
    "\n",
    "# Display the first 10 rows\n",
    "consultant_profiles.head(10)\n"
   ]
  },
  {
   "cell_type": "markdown",
   "metadata": {
    "id": "1ApJvICFY_eQ"
   },
   "source": [
    "calculate the sentiment intensity of each project then get the average for each consultant and merge them to consultant_profiles data set"
   ]
  },
  {
   "cell_type": "code",
   "execution_count": 7,
   "metadata": {
    "colab": {
     "base_uri": "https://localhost:8080/",
     "height": 554
    },
    "executionInfo": {
     "elapsed": 3646,
     "status": "ok",
     "timestamp": 1737558703832,
     "user": {
      "displayName": "Yousra DJELLIOUT",
      "userId": "15412454454980372451"
     },
     "user_tz": -60
    },
    "id": "eTPgNbgaCXfZ",
    "outputId": "6bc17fe5-ef30-4ddc-828a-8ddd3a9e7cbd"
   },
   "outputs": [
    {
     "name": "stdout",
     "output_type": "stream",
     "text": [
      "Requirement already satisfied: vaderSentiment in c:\\users\\hp\\anaconda3\\envs\\tensorflow\\lib\\site-packages (3.3.2)\n",
      "Requirement already satisfied: requests in c:\\users\\hp\\anaconda3\\envs\\tensorflow\\lib\\site-packages (from vaderSentiment) (2.32.3)\n",
      "Requirement already satisfied: charset-normalizer<4,>=2 in c:\\users\\hp\\anaconda3\\envs\\tensorflow\\lib\\site-packages (from requests->vaderSentiment) (3.3.2)\n",
      "Requirement already satisfied: idna<4,>=2.5 in c:\\users\\hp\\anaconda3\\envs\\tensorflow\\lib\\site-packages (from requests->vaderSentiment) (3.7)\n",
      "Requirement already satisfied: urllib3<3,>=1.21.1 in c:\\users\\hp\\anaconda3\\envs\\tensorflow\\lib\\site-packages (from requests->vaderSentiment) (2.2.2)\n",
      "Requirement already satisfied: certifi>=2017.4.17 in c:\\users\\hp\\anaconda3\\envs\\tensorflow\\lib\\site-packages (from requests->vaderSentiment) (2024.8.30)\n"
     ]
    },
    {
     "data": {
      "text/html": [
       "<div>\n",
       "<style scoped>\n",
       "    .dataframe tbody tr th:only-of-type {\n",
       "        vertical-align: middle;\n",
       "    }\n",
       "\n",
       "    .dataframe tbody tr th {\n",
       "        vertical-align: top;\n",
       "    }\n",
       "\n",
       "    .dataframe thead th {\n",
       "        text-align: right;\n",
       "    }\n",
       "</style>\n",
       "<table border=\"1\" class=\"dataframe\">\n",
       "  <thead>\n",
       "    <tr style=\"text-align: right;\">\n",
       "      <th></th>\n",
       "      <th>Name</th>\n",
       "      <th>Skills</th>\n",
       "      <th>Languages</th>\n",
       "      <th>Industry_Expertise</th>\n",
       "      <th>Years_of_Experience</th>\n",
       "      <th>Phone_Number</th>\n",
       "      <th>Rate</th>\n",
       "      <th>Sentiment_Score</th>\n",
       "    </tr>\n",
       "  </thead>\n",
       "  <tbody>\n",
       "    <tr>\n",
       "      <th>0</th>\n",
       "      <td>Consultant_1</td>\n",
       "      <td>Software Development, Blockchain</td>\n",
       "      <td>English, Arabic, German</td>\n",
       "      <td>Education</td>\n",
       "      <td>8</td>\n",
       "      <td>213626497067</td>\n",
       "      <td>0.909645</td>\n",
       "      <td>0.52670</td>\n",
       "    </tr>\n",
       "    <tr>\n",
       "      <th>1</th>\n",
       "      <td>Consultant_2</td>\n",
       "      <td>Blockchain, Data Engineering, Project Manageme...</td>\n",
       "      <td>German, Spanish</td>\n",
       "      <td>Finance</td>\n",
       "      <td>8</td>\n",
       "      <td>213516354563</td>\n",
       "      <td>0.500000</td>\n",
       "      <td>0.50000</td>\n",
       "    </tr>\n",
       "    <tr>\n",
       "      <th>2</th>\n",
       "      <td>Consultant_3</td>\n",
       "      <td>Computer Vision, Machine Learning, Data Engine...</td>\n",
       "      <td>English</td>\n",
       "      <td>Manufacturing</td>\n",
       "      <td>6</td>\n",
       "      <td>213594877652</td>\n",
       "      <td>0.818274</td>\n",
       "      <td>0.67050</td>\n",
       "    </tr>\n",
       "    <tr>\n",
       "      <th>3</th>\n",
       "      <td>Consultant_4</td>\n",
       "      <td>Project Management, Data Analysis, Deep Learning</td>\n",
       "      <td>German</td>\n",
       "      <td>Finance, Education</td>\n",
       "      <td>10</td>\n",
       "      <td>213545258370</td>\n",
       "      <td>0.719797</td>\n",
       "      <td>0.44870</td>\n",
       "    </tr>\n",
       "    <tr>\n",
       "      <th>4</th>\n",
       "      <td>Consultant_5</td>\n",
       "      <td>Project Management, NLP, Business Analysis, Bl...</td>\n",
       "      <td>German, Arabic</td>\n",
       "      <td>Technology, Manufacturing</td>\n",
       "      <td>7</td>\n",
       "      <td>213597173249</td>\n",
       "      <td>0.891371</td>\n",
       "      <td>0.65970</td>\n",
       "    </tr>\n",
       "    <tr>\n",
       "      <th>5</th>\n",
       "      <td>Consultant_6</td>\n",
       "      <td>Big Data, Machine Learning, Data Analysis</td>\n",
       "      <td>Arabic, German, French</td>\n",
       "      <td>Healthcare</td>\n",
       "      <td>9</td>\n",
       "      <td>213550635764</td>\n",
       "      <td>0.948223</td>\n",
       "      <td>0.38180</td>\n",
       "    </tr>\n",
       "    <tr>\n",
       "      <th>6</th>\n",
       "      <td>Consultant_7</td>\n",
       "      <td>Computer Vision, Deep Learning, Project Manage...</td>\n",
       "      <td>English, Spanish</td>\n",
       "      <td>Manufacturing, Retail</td>\n",
       "      <td>10</td>\n",
       "      <td>213699756499</td>\n",
       "      <td>0.792555</td>\n",
       "      <td>0.62920</td>\n",
       "    </tr>\n",
       "    <tr>\n",
       "      <th>7</th>\n",
       "      <td>Consultant_8</td>\n",
       "      <td>Deep Learning, Blockchain</td>\n",
       "      <td>German</td>\n",
       "      <td>Manufacturing</td>\n",
       "      <td>10</td>\n",
       "      <td>213614429673</td>\n",
       "      <td>0.816244</td>\n",
       "      <td>0.65970</td>\n",
       "    </tr>\n",
       "    <tr>\n",
       "      <th>8</th>\n",
       "      <td>Consultant_9</td>\n",
       "      <td>Data Engineering, Data Analysis</td>\n",
       "      <td>Arabic, French</td>\n",
       "      <td>Manufacturing, Retail</td>\n",
       "      <td>4</td>\n",
       "      <td>213683498546</td>\n",
       "      <td>0.791878</td>\n",
       "      <td>0.85190</td>\n",
       "    </tr>\n",
       "    <tr>\n",
       "      <th>9</th>\n",
       "      <td>Consultant_10</td>\n",
       "      <td>Deep Learning, Business Analysis, Cybersecurit...</td>\n",
       "      <td>Spanish, Arabic</td>\n",
       "      <td>Healthcare</td>\n",
       "      <td>5</td>\n",
       "      <td>213743193441</td>\n",
       "      <td>0.902741</td>\n",
       "      <td>0.62062</td>\n",
       "    </tr>\n",
       "  </tbody>\n",
       "</table>\n",
       "</div>"
      ],
      "text/plain": [
       "            Name                                             Skills  \\\n",
       "0   Consultant_1                   Software Development, Blockchain   \n",
       "1   Consultant_2  Blockchain, Data Engineering, Project Manageme...   \n",
       "2   Consultant_3  Computer Vision, Machine Learning, Data Engine...   \n",
       "3   Consultant_4   Project Management, Data Analysis, Deep Learning   \n",
       "4   Consultant_5  Project Management, NLP, Business Analysis, Bl...   \n",
       "5   Consultant_6          Big Data, Machine Learning, Data Analysis   \n",
       "6   Consultant_7  Computer Vision, Deep Learning, Project Manage...   \n",
       "7   Consultant_8                          Deep Learning, Blockchain   \n",
       "8   Consultant_9                    Data Engineering, Data Analysis   \n",
       "9  Consultant_10  Deep Learning, Business Analysis, Cybersecurit...   \n",
       "\n",
       "                 Languages         Industry_Expertise  Years_of_Experience  \\\n",
       "0  English, Arabic, German                  Education                    8   \n",
       "1          German, Spanish                    Finance                    8   \n",
       "2                  English              Manufacturing                    6   \n",
       "3                   German         Finance, Education                   10   \n",
       "4           German, Arabic  Technology, Manufacturing                    7   \n",
       "5   Arabic, German, French                 Healthcare                    9   \n",
       "6         English, Spanish      Manufacturing, Retail                   10   \n",
       "7                   German              Manufacturing                   10   \n",
       "8           Arabic, French      Manufacturing, Retail                    4   \n",
       "9          Spanish, Arabic                 Healthcare                    5   \n",
       "\n",
       "   Phone_Number      Rate  Sentiment_Score  \n",
       "0  213626497067  0.909645          0.52670  \n",
       "1  213516354563  0.500000          0.50000  \n",
       "2  213594877652  0.818274          0.67050  \n",
       "3  213545258370  0.719797          0.44870  \n",
       "4  213597173249  0.891371          0.65970  \n",
       "5  213550635764  0.948223          0.38180  \n",
       "6  213699756499  0.792555          0.62920  \n",
       "7  213614429673  0.816244          0.65970  \n",
       "8  213683498546  0.791878          0.85190  \n",
       "9  213743193441  0.902741          0.62062  "
      ]
     },
     "execution_count": 7,
     "metadata": {},
     "output_type": "execute_result"
    }
   ],
   "source": [
    "!pip install vaderSentiment\n",
    "\n",
    "from vaderSentiment.vaderSentiment import SentimentIntensityAnalyzer\n",
    "# Step 1: Rename 'Consultant_Name' to 'Name' in historical_data\n",
    "historical_data.rename(columns={'Consultant_Name': 'Name'}, inplace=True)\n",
    "analyzer = SentimentIntensityAnalyzer()\n",
    "# Step 2: Calculate sentiment scores for each comment in the historical data\n",
    "historical_data['Sentiment_Score'] = historical_data['Feedback_Comments'].apply(\n",
    "    lambda comment: analyzer.polarity_scores(comment)['compound'] if pd.notnull(comment) else 0\n",
    ")\n",
    "\n",
    "# Step 3: Group by Consultant_Name and calculate the mean sentiment score\n",
    "sentiment_scores = historical_data.groupby('Name')['Sentiment_Score'].mean()\n",
    "# Step 5: Merge the sentiment scores into consultant_profiles\n",
    "consultant_profiles = consultant_profiles.merge(\n",
    "    sentiment_scores, on='Name', how='left'\n",
    ")\n",
    "# Step 6: Replace NaN scores (for consultants with no comments) with 0\n",
    "consultant_profiles['Sentiment_Score'] = consultant_profiles['Sentiment_Score'].fillna(0.5)\n",
    "\n",
    "consultant_profiles.head(10)\n"
   ]
  },
  {
   "cell_type": "markdown",
   "metadata": {
    "id": "U4E45LcvrwIt"
   },
   "source": [
    "### Text preprocessing"
   ]
  },
  {
   "cell_type": "markdown",
   "metadata": {
    "id": "09uGZXfKZVKe"
   },
   "source": [
    "import nltk library with its resources"
   ]
  },
  {
   "cell_type": "code",
   "execution_count": 8,
   "metadata": {
    "colab": {
     "base_uri": "https://localhost:8080/"
    },
    "executionInfo": {
     "elapsed": 16114,
     "status": "ok",
     "timestamp": 1737558724033,
     "user": {
      "displayName": "Yousra DJELLIOUT",
      "userId": "15412454454980372451"
     },
     "user_tz": -60
    },
    "id": "5VVMCbebliHe",
    "outputId": "03cd112c-9b7d-44b3-a15c-4665244c07ee"
   },
   "outputs": [
    {
     "name": "stderr",
     "output_type": "stream",
     "text": [
      "[nltk_data] Downloading package punkt to\n",
      "[nltk_data]     C:\\Users\\hp\\AppData\\Roaming\\nltk_data...\n",
      "[nltk_data]   Package punkt is already up-to-date!\n",
      "[nltk_data] Downloading package stopwords to\n",
      "[nltk_data]     C:\\Users\\hp\\AppData\\Roaming\\nltk_data...\n",
      "[nltk_data]   Package stopwords is already up-to-date!\n",
      "[nltk_data] Downloading package wordnet to\n",
      "[nltk_data]     C:\\Users\\hp\\AppData\\Roaming\\nltk_data...\n",
      "[nltk_data]   Package wordnet is already up-to-date!\n",
      "[nltk_data] Downloading package averaged_perceptron_tagger to\n",
      "[nltk_data]     C:\\Users\\hp\\AppData\\Roaming\\nltk_data...\n",
      "[nltk_data]   Package averaged_perceptron_tagger is already up-to-\n",
      "[nltk_data]       date!\n",
      "[nltk_data] Downloading package punkt_tab to\n",
      "[nltk_data]     C:\\Users\\hp\\AppData\\Roaming\\nltk_data...\n",
      "[nltk_data]   Package punkt_tab is already up-to-date!\n"
     ]
    }
   ],
   "source": [
    "import nltk\n",
    "from nltk.corpus import stopwords\n",
    "from nltk.tokenize import word_tokenize\n",
    "from nltk.stem import WordNetLemmatizer\n",
    "from nltk import pos_tag\n",
    "\n",
    "# Download NLTK resources\n",
    "nltk.download('punkt')\n",
    "nltk.download('stopwords')\n",
    "nltk.download('wordnet')\n",
    "nltk.download('averaged_perceptron_tagger')\n",
    "nltk.download('punkt_tab')\n",
    "\n",
    "# Initialize NLTK objects\n",
    "lemmatizer = WordNetLemmatizer()\n",
    "stop_words = set(stopwords.words('english'))"
   ]
  },
  {
   "cell_type": "markdown",
   "metadata": {
    "id": "5IggBjS9ZeOU"
   },
   "source": [
    "check years of experience with regulier expressions"
   ]
  },
  {
   "cell_type": "code",
   "execution_count": 9,
   "metadata": {
    "executionInfo": {
     "elapsed": 306,
     "status": "ok",
     "timestamp": 1737558727803,
     "user": {
      "displayName": "Yousra DJELLIOUT",
      "userId": "15412454454980372451"
     },
     "user_tz": -60
    },
    "id": "rvKJtPc8jKnj"
   },
   "outputs": [],
   "source": [
    "import re\n",
    "def extract_experience_criteria(client_input):\n",
    "    # Check for years and comparison terms\n",
    "    experience_criteria = re.search(\n",
    "        r'(more than|or more|less than|or less)?\\s*(\\d+)\\s*years?\\s*(experience)?\\s*(more than|or more|less than|or less)?',\n",
    "        client_input.lower()\n",
    "    )\n",
    "\n",
    "    if experience_criteria:\n",
    "        # Extract the number of years (group 2 contains the number)\n",
    "        years = int(experience_criteria.group(2))\n",
    "\n",
    "        # Initialize comparison to None\n",
    "        comparison = None\n",
    "\n",
    "        # Check the comparison term before the number\n",
    "        if experience_criteria.group(1):\n",
    "            comparison = experience_criteria.group(1)\n",
    "\n",
    "        # Check the comparison term after the number\n",
    "        if experience_criteria.group(4):\n",
    "            comparison = experience_criteria.group(4)\n",
    "\n",
    "        # Now, return the years and comparison\n",
    "        if comparison == \"more than\":\n",
    "            return years, \"more than\"  # > years\n",
    "        elif comparison == \"or more\":\n",
    "            return years, \"or more\"  # >= years\n",
    "        elif comparison == \"less than\":\n",
    "            return years, \"less than\"  # < years\n",
    "        elif comparison == \"or less\":\n",
    "            return years, \"or less\"  # <= years\n",
    "        else:\n",
    "            return years, \"exact\"  # == years\n",
    "    return None, None\n"
   ]
  },
  {
   "cell_type": "markdown",
   "metadata": {
    "id": "JTR5lrfQqz-d"
   },
   "source": [
    "Text preprocessing with nltk"
   ]
  },
  {
   "cell_type": "code",
   "execution_count": 10,
   "metadata": {
    "executionInfo": {
     "elapsed": 424,
     "status": "ok",
     "timestamp": 1737558733227,
     "user": {
      "displayName": "Yousra DJELLIOUT",
      "userId": "15412454454980372451"
     },
     "user_tz": -60
    },
    "id": "Xw2Hk_fBjIMS"
   },
   "outputs": [],
   "source": [
    "def preprocess_text_nltk(text):\n",
    "    \"\"\"\n",
    "    Preprocesses text by normalizing, removing stopwords,\n",
    "    performing lemmatization, handling negations, and mapping keywords using NLTK.\n",
    "\n",
    "    Args:\n",
    "        text (str): The input text to preprocess.\n",
    "\n",
    "    Returns:\n",
    "        str: The cleaned and normalized text.\n",
    "    \"\"\"\n",
    "\n",
    "    # Sort keywords by length in descending order\n",
    "    sorted_keywords = sorted(keyword_to_skills.keys(), key=len, reverse=True)\n",
    "\n",
    "    # Replace phrases in the text with corresponding skills\n",
    "    for phrase in sorted_keywords:\n",
    "        if phrase in text:\n",
    "            # If the value for the keyword is a list, replace the phrase with all options\n",
    "            if isinstance(keyword_to_skills[phrase], list):\n",
    "                options = \" / \".join(keyword_to_skills[phrase])\n",
    "                text = text.replace(phrase, options)\n",
    "            else:\n",
    "                text = text.replace(phrase, keyword_to_skills[phrase])\n",
    "\n",
    "    # Tokenize the text\n",
    "    tokens = word_tokenize(text.lower())\n",
    "\n",
    "    # Initialize variables\n",
    "    processed_tokens = []\n",
    "    is_negated = False  # Flag to track negation\n",
    "\n",
    "    # Process each token\n",
    "    for token in tokens:\n",
    "        # Check if token matches a keyword and replace if it does\n",
    "        if token in keyword_to_skills:\n",
    "            token = keyword_to_skills[token]\n",
    "\n",
    "        # Check if token is a negation word\n",
    "        '''if token in negation_words:\n",
    "            is_negated = True\n",
    "        elif token not in stop_words and token.isalnum():  # Remove stopwords and non-alphanumeric tokens\n",
    "            # Lemmatize the token\n",
    "            lemma = lemmatizer.lemmatize(token)\n",
    "            # Add \"not_\" prefix if negation flag is True\n",
    "            if is_negated:\n",
    "                lemma = f\"not_{lemma}\"\n",
    "                is_negated = False  # Reset the negation flag after handling\n",
    "            processed_tokens.append(lemma)  # Append after final processing\n",
    "\n",
    "    return \" \".join(processed_tokens)'''\n",
    "    return \" \".join(tokens)\n",
    "\n"
   ]
  },
  {
   "cell_type": "markdown",
   "metadata": {
    "id": "Bx_584QfXsQY"
   },
   "source": [
    "### Essentiel Function to detect *languages*"
   ]
  },
  {
   "cell_type": "markdown",
   "metadata": {
    "id": "IyU6d2jQrF1m"
   },
   "source": [
    "we need to ensure that consultants who speak only French are excluded. Consultants who speak French along with other languages should still be considered."
   ]
  },
  {
   "cell_type": "code",
   "execution_count": 11,
   "metadata": {
    "executionInfo": {
     "elapsed": 400,
     "status": "ok",
     "timestamp": 1737558736497,
     "user": {
      "displayName": "Yousra DJELLIOUT",
      "userId": "15412454454980372451"
     },
     "user_tz": -60
    },
    "id": "2Y3vYC3WXsCl"
   },
   "outputs": [],
   "source": [
    "import re\n",
    "\n",
    "# Language mapping\n",
    "languages_mapping = {\n",
    "    \"english\": \"English\",\n",
    "    \"french\": \"French\",\n",
    "    \"spanish\": \"Spanish\",\n",
    "    \"german\": \"German\",\n",
    "    \"arabic\": \"Arabic\"\n",
    "}\n",
    "\n",
    "# Regex pattern to detect negations followed by any combination of languages\n",
    "negation_pattern = r\"\\b(?:not|no|never|doesn't|don't|shouldn't|cannot|mustn't|isn't|not able to)\\s+(?:speak|talk|know)\\s+((?:english|french|spanish|german|arabic)(?:\\s*(?:,|\\bor\\b|and\\b)\\s*(?:english|french|spanish|german|arabic))*)\\b\"\n",
    "\n",
    "def handle_complex_negations_with_regex(text, languages_mapping):\n",
    "    \"\"\"\n",
    "    Handles complex negations using regex by replacing negated languages with 'not_language'.\n",
    "\n",
    "    Args:\n",
    "        text (str): Input text.\n",
    "        languages_mapping (dict): Mapping of language keywords to language names.\n",
    "\n",
    "    Returns:\n",
    "        str: Updated text with negated languages replaced.\n",
    "    \"\"\"\n",
    "    def replace_negation(match):\n",
    "        # Extract the list of languages from the match group\n",
    "        languages = re.split(r\"\\s*(?:,|\\bor\\b|and\\b)\\s*\", match.group(1).lower())\n",
    "        # Replace each language with its negated form\n",
    "        negated_languages = [f\"not_{languages_mapping[lang].lower()}\" for lang in languages]\n",
    "        return \" \".join(negated_languages)\n",
    "\n",
    "    # Replace negated languages in the text\n",
    "    updated_text = re.sub(negation_pattern, replace_negation, text, flags=re.IGNORECASE)\n",
    "\n",
    "    # Handle positive mentions of languages\n",
    "    for lang_key, lang_value in languages_mapping.items():\n",
    "        updated_text = re.sub(fr\"\\b{lang_key}\\b\", lang_value.lower(), updated_text, flags=re.IGNORECASE)\n",
    "\n",
    "    return updated_text\n",
    "\n",
    "\n"
   ]
  },
  {
   "cell_type": "markdown",
   "metadata": {
    "id": "twM7wSXXbzLX"
   },
   "source": [
    "### Matching function"
   ]
  },
  {
   "cell_type": "code",
   "execution_count": 12,
   "metadata": {
    "executionInfo": {
     "elapsed": 288,
     "status": "ok",
     "timestamp": 1737558740205,
     "user": {
      "displayName": "Yousra DJELLIOUT",
      "userId": "15412454454980372451"
     },
     "user_tz": -60
    },
    "id": "hGMDKJ0Ga-iD"
   },
   "outputs": [],
   "source": [
    "from sklearn.feature_extraction.text import TfidfVectorizer\n",
    "from sklearn.metrics.pairwise import cosine_similarity\n",
    "def match_consultants(client_input, consultant_profiles):\n",
    "    # Extract years and comparison type before processing text\n",
    "    years, comparison = extract_experience_criteria(client_input)\n",
    "\n",
    "    # Combine consultant data for comparison\n",
    "    consultant_profiles[\"Combined_Data\"] = (\n",
    "        consultant_profiles[\"Skills\"].str.lower() + \" \" +\n",
    "        consultant_profiles[\"Industry_Expertise\"].str.lower() + \" \" +\n",
    "        consultant_profiles[\"Languages\"].str.lower() + \" \" +\n",
    "        consultant_profiles[\"Years_of_Experience\"].astype(str)\n",
    "    )\n",
    "\n",
    "    #Preprocess client input\n",
    "    client_description = handle_complex_negations_with_regex(client_input, languages_mapping)\n",
    "    client_description = preprocess_text_nltk(client_description)\n",
    "\n",
    "    # Filter consultants based on the experience criteria (before tokenization)\n",
    "    filtered_consultants = consultant_profiles.copy()  # Create a copy to avoid modifying the original DataFrame\n",
    "    if years is not None:\n",
    "        if comparison == \"more than\":\n",
    "            filtered_consultants = filtered_consultants[\n",
    "                filtered_consultants[\"Years_of_Experience\"] > years  # More than X\n",
    "            ]\n",
    "        elif comparison == \"less than\":\n",
    "            filtered_consultants = filtered_consultants[\n",
    "                filtered_consultants[\"Years_of_Experience\"] < years  # Less than X\n",
    "            ]\n",
    "        elif comparison == \"exact\":\n",
    "            filtered_consultants = filtered_consultants[\n",
    "                filtered_consultants[\"Years_of_Experience\"] == years  # Exact match to X\n",
    "            ]\n",
    "        elif comparison == \"or more\":\n",
    "            filtered_consultants = filtered_consultants[\n",
    "                filtered_consultants[\"Years_of_Experience\"] >= years  # More or equal to X\n",
    "            ]\n",
    "        elif comparison == \"or less\":\n",
    "            filtered_consultants = filtered_consultants[\n",
    "                filtered_consultants[\"Years_of_Experience\"] <= years  # Less or equal to X\n",
    "            ]\n",
    "\n",
    "    # Check if the filtered DataFrame is empty\n",
    "    if filtered_consultants.empty:\n",
    "        print(\"No consultants found matching the specified criteria.\")\n",
    "        return pd.DataFrame()  # Return an empty DataFrame\n",
    "\n",
    "    # Initialize the TF-IDF Vectorizer\n",
    "    vectorizer = TfidfVectorizer(stop_words='english')\n",
    "\n",
    "    # Fit the vectorizer on both client input and consultant profiles' Combined Data\n",
    "    vectorizer.fit([client_description] + filtered_consultants[\"Combined_Data\"].tolist())  # Use filtered_consultants\n",
    "\n",
    "    # Transform the client input and consultant profiles into TF-IDF vectors\n",
    "    client_vector = vectorizer.transform([client_description])\n",
    "    consultant_vectors = vectorizer.transform(filtered_consultants[\"Combined_Data\"])  # Use filtered_consultants\n",
    "\n",
    "    # Calculate cosine similarity between the client and each consultant's profile\n",
    "    similarities1 = cosine_similarity(client_vector, consultant_vectors).flatten()\n",
    "\n",
    "    # Use .loc to safely set the similarity score in the DataFrame\n",
    "    filtered_consultants.loc[:, 'Similarity_Score'] = (similarities1 * 0.95) + (filtered_consultants['Rate'] * 0.025) + (filtered_consultants['Sentiment_Score'] * 0.025)  # Use filtered_consultants\n",
    "\n",
    "    # Sort consultants by similarity score in descending order\n",
    "    return filtered_consultants.sort_values(by=\"Similarity_Score\", ascending=False)  # Use filtered_consultants"
   ]
  },
  {
   "cell_type": "markdown",
   "metadata": {
    "id": "cvk68kBCsRnI"
   },
   "source": [
    "### the result"
   ]
  },
  {
   "cell_type": "markdown",
   "metadata": {
    "id": "OvKimwPTrcJj"
   },
   "source": [
    "Check the work of text precessing in the client input"
   ]
  },
  {
   "cell_type": "code",
   "execution_count": 13,
   "metadata": {
    "colab": {
     "base_uri": "https://localhost:8080/",
     "height": 53
    },
    "executionInfo": {
     "elapsed": 294,
     "status": "ok",
     "timestamp": 1737558744568,
     "user": {
      "displayName": "Yousra DJELLIOUT",
      "userId": "15412454454980372451"
     },
     "user_tz": -60
    },
    "id": "ogy6tNEFlzv2",
    "outputId": "7373f246-61c6-4961-8c22-ce7e05b9bbf9"
   },
   "outputs": [
    {
     "data": {
      "text/plain": [
       "'looking for a consultant with more than 4 years of expertise to creat a data analysis / machine learning / software development in healthcare but it is better if he not_arabic not_german not_french not_arabic but speak spanish'"
      ]
     },
     "execution_count": 13,
     "metadata": {},
     "output_type": "execute_result"
    }
   ],
   "source": [
    "client_input = \"Looking for a consultant  with more than 4 years  of expertise to creat a recommendation system in Healthcare but it is better if he doesn't speak arabic or german or french or arabic but speak spanish \"\n",
    "client_description = handle_complex_negations_with_regex(client_input, languages_mapping)\n",
    "client_description = preprocess_text_nltk(client_description)\n",
    "client_description"
   ]
  },
  {
   "cell_type": "markdown",
   "metadata": {
    "id": "xCsp_GzkriUa"
   },
   "source": [
    "The final result"
   ]
  },
  {
   "cell_type": "code",
   "execution_count": 14,
   "metadata": {
    "colab": {
     "base_uri": "https://localhost:8080/",
     "height": 415
    },
    "executionInfo": {
     "elapsed": 319,
     "status": "ok",
     "timestamp": 1737558747083,
     "user": {
      "displayName": "Yousra DJELLIOUT",
      "userId": "15412454454980372451"
     },
     "user_tz": -60
    },
    "id": "rWAz9QJql1z-",
    "outputId": "2e0d2ced-26a0-423e-a8db-10d4fa3bfe4b"
   },
   "outputs": [
    {
     "data": {
      "text/html": [
       "<div>\n",
       "<style scoped>\n",
       "    .dataframe tbody tr th:only-of-type {\n",
       "        vertical-align: middle;\n",
       "    }\n",
       "\n",
       "    .dataframe tbody tr th {\n",
       "        vertical-align: top;\n",
       "    }\n",
       "\n",
       "    .dataframe thead th {\n",
       "        text-align: right;\n",
       "    }\n",
       "</style>\n",
       "<table border=\"1\" class=\"dataframe\">\n",
       "  <thead>\n",
       "    <tr style=\"text-align: right;\">\n",
       "      <th></th>\n",
       "      <th>Name</th>\n",
       "      <th>Skills</th>\n",
       "      <th>Industry_Expertise</th>\n",
       "      <th>Years_of_Experience</th>\n",
       "      <th>Languages</th>\n",
       "      <th>Similarity_Score</th>\n",
       "    </tr>\n",
       "  </thead>\n",
       "  <tbody>\n",
       "    <tr>\n",
       "      <th>9</th>\n",
       "      <td>Consultant_10</td>\n",
       "      <td>Deep Learning, Business Analysis, Cybersecurity, Data Engineering, Software Development</td>\n",
       "      <td>Healthcare</td>\n",
       "      <td>5</td>\n",
       "      <td>Spanish, Arabic</td>\n",
       "      <td>24.2</td>\n",
       "    </tr>\n",
       "    <tr>\n",
       "      <th>12</th>\n",
       "      <td>Consultant_13</td>\n",
       "      <td>Deep Learning, Cybersecurity, Software Development, NLP, Data Analysis</td>\n",
       "      <td>Healthcare</td>\n",
       "      <td>9</td>\n",
       "      <td>French</td>\n",
       "      <td>21.9</td>\n",
       "    </tr>\n",
       "    <tr>\n",
       "      <th>17</th>\n",
       "      <td>Consultant_18</td>\n",
       "      <td>Data Engineering, Deep Learning, Computer Vision, Software Development</td>\n",
       "      <td>Healthcare</td>\n",
       "      <td>8</td>\n",
       "      <td>German</td>\n",
       "      <td>21.6</td>\n",
       "    </tr>\n",
       "    <tr>\n",
       "      <th>5</th>\n",
       "      <td>Consultant_6</td>\n",
       "      <td>Big Data, Machine Learning, Data Analysis</td>\n",
       "      <td>Healthcare</td>\n",
       "      <td>9</td>\n",
       "      <td>Arabic, German, French</td>\n",
       "      <td>21.3</td>\n",
       "    </tr>\n",
       "    <tr>\n",
       "      <th>25</th>\n",
       "      <td>Consultant_26</td>\n",
       "      <td>Big Data, Project Management, Software Development, Cybersecurity, Data Analysis</td>\n",
       "      <td>Healthcare, Retail</td>\n",
       "      <td>8</td>\n",
       "      <td>Arabic, German, Spanish</td>\n",
       "      <td>20.2</td>\n",
       "    </tr>\n",
       "    <tr>\n",
       "      <th>70</th>\n",
       "      <td>Consultant_71</td>\n",
       "      <td>Machine Learning, Software Development, Computer Vision, Cloud Computing, Project Management</td>\n",
       "      <td>Finance, Healthcare</td>\n",
       "      <td>10</td>\n",
       "      <td>Spanish</td>\n",
       "      <td>20.0</td>\n",
       "    </tr>\n",
       "    <tr>\n",
       "      <th>48</th>\n",
       "      <td>Consultant_49</td>\n",
       "      <td>NLP, Project Management, Software Development</td>\n",
       "      <td>Healthcare, Retail</td>\n",
       "      <td>6</td>\n",
       "      <td>German, Spanish</td>\n",
       "      <td>19.5</td>\n",
       "    </tr>\n",
       "    <tr>\n",
       "      <th>85</th>\n",
       "      <td>Consultant_86</td>\n",
       "      <td>Data Engineering, Software Development</td>\n",
       "      <td>Healthcare</td>\n",
       "      <td>6</td>\n",
       "      <td>French, Arabic, English</td>\n",
       "      <td>19.3</td>\n",
       "    </tr>\n",
       "    <tr>\n",
       "      <th>74</th>\n",
       "      <td>Consultant_75</td>\n",
       "      <td>Software Development, Machine Learning, Computer Vision, Big Data, Cybersecurity</td>\n",
       "      <td>Technology</td>\n",
       "      <td>8</td>\n",
       "      <td>French, English</td>\n",
       "      <td>19.1</td>\n",
       "    </tr>\n",
       "    <tr>\n",
       "      <th>62</th>\n",
       "      <td>Consultant_63</td>\n",
       "      <td>Big Data, Software Development</td>\n",
       "      <td>Manufacturing, Healthcare</td>\n",
       "      <td>7</td>\n",
       "      <td>German, French, Arabic</td>\n",
       "      <td>18.8</td>\n",
       "    </tr>\n",
       "  </tbody>\n",
       "</table>\n",
       "</div>"
      ],
      "text/plain": [
       "             Name  \\\n",
       "9   Consultant_10   \n",
       "12  Consultant_13   \n",
       "17  Consultant_18   \n",
       "5    Consultant_6   \n",
       "25  Consultant_26   \n",
       "70  Consultant_71   \n",
       "48  Consultant_49   \n",
       "85  Consultant_86   \n",
       "74  Consultant_75   \n",
       "62  Consultant_63   \n",
       "\n",
       "                                                                                          Skills  \\\n",
       "9        Deep Learning, Business Analysis, Cybersecurity, Data Engineering, Software Development   \n",
       "12                        Deep Learning, Cybersecurity, Software Development, NLP, Data Analysis   \n",
       "17                        Data Engineering, Deep Learning, Computer Vision, Software Development   \n",
       "5                                                      Big Data, Machine Learning, Data Analysis   \n",
       "25              Big Data, Project Management, Software Development, Cybersecurity, Data Analysis   \n",
       "70  Machine Learning, Software Development, Computer Vision, Cloud Computing, Project Management   \n",
       "48                                                 NLP, Project Management, Software Development   \n",
       "85                                                        Data Engineering, Software Development   \n",
       "74              Software Development, Machine Learning, Computer Vision, Big Data, Cybersecurity   \n",
       "62                                                                Big Data, Software Development   \n",
       "\n",
       "           Industry_Expertise  Years_of_Experience                Languages  \\\n",
       "9                  Healthcare                    5          Spanish, Arabic   \n",
       "12                 Healthcare                    9                   French   \n",
       "17                 Healthcare                    8                   German   \n",
       "5                  Healthcare                    9   Arabic, German, French   \n",
       "25         Healthcare, Retail                    8  Arabic, German, Spanish   \n",
       "70        Finance, Healthcare                   10                  Spanish   \n",
       "48         Healthcare, Retail                    6          German, Spanish   \n",
       "85                 Healthcare                    6  French, Arabic, English   \n",
       "74                 Technology                    8          French, English   \n",
       "62  Manufacturing, Healthcare                    7   German, French, Arabic   \n",
       "\n",
       "    Similarity_Score  \n",
       "9               24.2  \n",
       "12              21.9  \n",
       "17              21.6  \n",
       "5               21.3  \n",
       "25              20.2  \n",
       "70              20.0  \n",
       "48              19.5  \n",
       "85              19.3  \n",
       "74              19.1  \n",
       "62              18.8  "
      ]
     },
     "execution_count": 14,
     "metadata": {},
     "output_type": "execute_result"
    }
   ],
   "source": [
    "result = match_consultants(client_input, consultant_profiles)\n",
    "\n",
    "pd.set_option('display.max_colwidth', None)\n",
    "# Modify the \"Similarity_Score\" to be displayed as a percentage with one decimal place\n",
    "result[\"Similarity_Score\"] = (result[\"Similarity_Score\"] * 100).round(1)\n",
    "\n",
    "result[[\"Name\", \"Skills\",\"Industry_Expertise\",\"Years_of_Experience\", \"Languages\",\"Similarity_Score\"]].iloc[:10]"
   ]
  }
 ],
 "metadata": {
  "colab": {
   "provenance": []
  },
  "kernelspec": {
   "display_name": "tensorflow",
   "language": "python",
   "name": "python3"
  },
  "language_info": {
   "codemirror_mode": {
    "name": "ipython",
    "version": 3
   },
   "file_extension": ".py",
   "mimetype": "text/x-python",
   "name": "python",
   "nbconvert_exporter": "python",
   "pygments_lexer": "ipython3",
   "version": "3.8.18"
  }
 },
 "nbformat": 4,
 "nbformat_minor": 0
}
